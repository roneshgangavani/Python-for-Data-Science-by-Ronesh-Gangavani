{
 "cells": [
  {
   "cell_type": "code",
   "execution_count": 1,
   "metadata": {},
   "outputs": [],
   "source": [
    "import numpy as np\n",
    "import pandas as pd"
   ]
  },
  {
   "cell_type": "code",
   "execution_count": 4,
   "metadata": {},
   "outputs": [],
   "source": [
    "import yfinance as yf"
   ]
  },
  {
   "cell_type": "code",
   "execution_count": 7,
   "metadata": {},
   "outputs": [],
   "source": [
    "import plotly.graph_objs as go"
   ]
  },
  {
   "cell_type": "code",
   "execution_count": 23,
   "metadata": {},
   "outputs": [],
   "source": [
    "data = yf.tickers"
   ]
  },
  {
   "cell_type": "code",
   "execution_count": 24,
   "metadata": {},
   "outputs": [
    {
     "data": {
      "text/plain": [
       "<module 'yfinance.tickers' from '/opt/anaconda3/lib/python3.8/site-packages/yfinance/tickers.py'>"
      ]
     },
     "execution_count": 24,
     "metadata": {},
     "output_type": "execute_result"
    }
   ],
   "source": [
    "data"
   ]
  },
  {
   "cell_type": "code",
   "execution_count": 22,
   "metadata": {},
   "outputs": [],
   "source": [
    "data=data.reset_index()\n"
   ]
  },
  {
   "cell_type": "code",
   "execution_count": 18,
   "metadata": {},
   "outputs": [
    {
     "data": {
      "text/html": [
       "<div>\n",
       "<style scoped>\n",
       "    .dataframe tbody tr th:only-of-type {\n",
       "        vertical-align: middle;\n",
       "    }\n",
       "\n",
       "    .dataframe tbody tr th {\n",
       "        vertical-align: top;\n",
       "    }\n",
       "\n",
       "    .dataframe thead th {\n",
       "        text-align: right;\n",
       "    }\n",
       "</style>\n",
       "<table border=\"1\" class=\"dataframe\">\n",
       "  <thead>\n",
       "    <tr style=\"text-align: right;\">\n",
       "      <th></th>\n",
       "      <th>Open</th>\n",
       "      <th>High</th>\n",
       "      <th>Low</th>\n",
       "      <th>Close</th>\n",
       "      <th>Adj Close</th>\n",
       "      <th>Volume</th>\n",
       "    </tr>\n",
       "    <tr>\n",
       "      <th>Datetime</th>\n",
       "      <th></th>\n",
       "      <th></th>\n",
       "      <th></th>\n",
       "      <th></th>\n",
       "      <th></th>\n",
       "      <th></th>\n",
       "    </tr>\n",
       "  </thead>\n",
       "  <tbody>\n",
       "    <tr>\n",
       "      <th>2021-02-24 09:30:00-05:00</th>\n",
       "      <td>54.459999</td>\n",
       "      <td>54.500000</td>\n",
       "      <td>54.459999</td>\n",
       "      <td>54.500000</td>\n",
       "      <td>54.500000</td>\n",
       "      <td>987426</td>\n",
       "    </tr>\n",
       "    <tr>\n",
       "      <th>2021-02-24 09:31:00-05:00</th>\n",
       "      <td>54.459999</td>\n",
       "      <td>54.599998</td>\n",
       "      <td>54.130001</td>\n",
       "      <td>54.160000</td>\n",
       "      <td>54.160000</td>\n",
       "      <td>242763</td>\n",
       "    </tr>\n",
       "    <tr>\n",
       "      <th>2021-02-24 09:32:00-05:00</th>\n",
       "      <td>54.149502</td>\n",
       "      <td>54.410000</td>\n",
       "      <td>53.919998</td>\n",
       "      <td>54.410000</td>\n",
       "      <td>54.410000</td>\n",
       "      <td>351755</td>\n",
       "    </tr>\n",
       "    <tr>\n",
       "      <th>2021-02-24 09:33:00-05:00</th>\n",
       "      <td>54.410000</td>\n",
       "      <td>54.709999</td>\n",
       "      <td>54.310001</td>\n",
       "      <td>54.409901</td>\n",
       "      <td>54.409901</td>\n",
       "      <td>171585</td>\n",
       "    </tr>\n",
       "    <tr>\n",
       "      <th>2021-02-24 09:34:00-05:00</th>\n",
       "      <td>54.430000</td>\n",
       "      <td>54.630001</td>\n",
       "      <td>54.410000</td>\n",
       "      <td>54.619999</td>\n",
       "      <td>54.619999</td>\n",
       "      <td>92925</td>\n",
       "    </tr>\n",
       "    <tr>\n",
       "      <th>...</th>\n",
       "      <td>...</td>\n",
       "      <td>...</td>\n",
       "      <td>...</td>\n",
       "      <td>...</td>\n",
       "      <td>...</td>\n",
       "      <td>...</td>\n",
       "    </tr>\n",
       "    <tr>\n",
       "      <th>2021-03-02 12:49:00-05:00</th>\n",
       "      <td>54.630001</td>\n",
       "      <td>54.639999</td>\n",
       "      <td>54.590000</td>\n",
       "      <td>54.590000</td>\n",
       "      <td>54.590000</td>\n",
       "      <td>9783</td>\n",
       "    </tr>\n",
       "    <tr>\n",
       "      <th>2021-03-02 12:50:00-05:00</th>\n",
       "      <td>54.570000</td>\n",
       "      <td>54.570000</td>\n",
       "      <td>54.549999</td>\n",
       "      <td>54.559898</td>\n",
       "      <td>54.559898</td>\n",
       "      <td>14324</td>\n",
       "    </tr>\n",
       "    <tr>\n",
       "      <th>2021-03-02 12:51:00-05:00</th>\n",
       "      <td>54.555000</td>\n",
       "      <td>54.590000</td>\n",
       "      <td>54.525002</td>\n",
       "      <td>54.590000</td>\n",
       "      <td>54.590000</td>\n",
       "      <td>28958</td>\n",
       "    </tr>\n",
       "    <tr>\n",
       "      <th>2021-03-02 12:52:00-05:00</th>\n",
       "      <td>54.590000</td>\n",
       "      <td>54.590000</td>\n",
       "      <td>54.510101</td>\n",
       "      <td>54.529900</td>\n",
       "      <td>54.529900</td>\n",
       "      <td>15720</td>\n",
       "    </tr>\n",
       "    <tr>\n",
       "      <th>2021-03-02 12:53:01-05:00</th>\n",
       "      <td>54.529999</td>\n",
       "      <td>54.529999</td>\n",
       "      <td>54.529999</td>\n",
       "      <td>54.529999</td>\n",
       "      <td>54.529999</td>\n",
       "      <td>0</td>\n",
       "    </tr>\n",
       "  </tbody>\n",
       "</table>\n",
       "<p>1762 rows × 6 columns</p>\n",
       "</div>"
      ],
      "text/plain": [
       "                                Open       High        Low      Close  \\\n",
       "Datetime                                                                \n",
       "2021-02-24 09:30:00-05:00  54.459999  54.500000  54.459999  54.500000   \n",
       "2021-02-24 09:31:00-05:00  54.459999  54.599998  54.130001  54.160000   \n",
       "2021-02-24 09:32:00-05:00  54.149502  54.410000  53.919998  54.410000   \n",
       "2021-02-24 09:33:00-05:00  54.410000  54.709999  54.310001  54.409901   \n",
       "2021-02-24 09:34:00-05:00  54.430000  54.630001  54.410000  54.619999   \n",
       "...                              ...        ...        ...        ...   \n",
       "2021-03-02 12:49:00-05:00  54.630001  54.639999  54.590000  54.590000   \n",
       "2021-03-02 12:50:00-05:00  54.570000  54.570000  54.549999  54.559898   \n",
       "2021-03-02 12:51:00-05:00  54.555000  54.590000  54.525002  54.590000   \n",
       "2021-03-02 12:52:00-05:00  54.590000  54.590000  54.510101  54.529900   \n",
       "2021-03-02 12:53:01-05:00  54.529999  54.529999  54.529999  54.529999   \n",
       "\n",
       "                           Adj Close  Volume  \n",
       "Datetime                                      \n",
       "2021-02-24 09:30:00-05:00  54.500000  987426  \n",
       "2021-02-24 09:31:00-05:00  54.160000  242763  \n",
       "2021-02-24 09:32:00-05:00  54.410000  351755  \n",
       "2021-02-24 09:33:00-05:00  54.409901  171585  \n",
       "2021-02-24 09:34:00-05:00  54.619999   92925  \n",
       "...                              ...     ...  \n",
       "2021-03-02 12:49:00-05:00  54.590000    9783  \n",
       "2021-03-02 12:50:00-05:00  54.559898   14324  \n",
       "2021-03-02 12:51:00-05:00  54.590000   28958  \n",
       "2021-03-02 12:52:00-05:00  54.529900   15720  \n",
       "2021-03-02 12:53:01-05:00  54.529999       0  \n",
       "\n",
       "[1762 rows x 6 columns]"
      ]
     },
     "execution_count": 18,
     "metadata": {},
     "output_type": "execute_result"
    }
   ],
   "source": [
    "data"
   ]
  },
  {
   "cell_type": "code",
   "execution_count": null,
   "metadata": {},
   "outputs": [],
   "source": []
  }
 ],
 "metadata": {
  "kernelspec": {
   "display_name": "Python 3",
   "language": "python",
   "name": "python3"
  },
  "language_info": {
   "codemirror_mode": {
    "name": "ipython",
    "version": 3
   },
   "file_extension": ".py",
   "mimetype": "text/x-python",
   "name": "python",
   "nbconvert_exporter": "python",
   "pygments_lexer": "ipython3",
   "version": "3.8.3"
  }
 },
 "nbformat": 4,
 "nbformat_minor": 4
}
