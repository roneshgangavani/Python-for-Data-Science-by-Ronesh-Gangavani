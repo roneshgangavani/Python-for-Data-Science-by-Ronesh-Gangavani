{
 "cells": [
  {
   "cell_type": "markdown",
   "metadata": {},
   "source": [
    "# Collections"
   ]
  },
  {
   "cell_type": "markdown",
   "metadata": {},
   "source": [
    "LIST"
   ]
  },
  {
   "cell_type": "code",
   "execution_count": 1,
   "metadata": {},
   "outputs": [
    {
     "name": "stdout",
     "output_type": "stream",
     "text": [
      "['Ronesh', 'Antik', 'Arvind', 'Vishnu', 'Hemant', 'Ronesh']\n",
      "['Ronesh', 'Antik', 'Arvind']\n",
      "['Ronesh', 'Antik', 'Arvind', 'Vishnu', 'Jessy', 'Ronesh']\n",
      "['Ronesh', 'Antik', 'Arvind', 'Vishnu', 'Jessy', 'Ronesh', 'Vinay']\n",
      "2\n"
     ]
    }
   ],
   "source": [
    "\n",
    "list1=[\"Ronesh\",\"Antik\",\"Arvind\",\"Vishnu\",\"Hemant\",\"Ronesh\"]\n",
    "print(list1)\n",
    "print(list1[:3])\n",
    "list1[4]='Jessy'\n",
    "print(list1)\n",
    "list1.append(\"Vinay\")\n",
    "print(list1)\n",
    "#list1.clear()  # clear the elements\n",
    "#print(list1)\n",
    "ct=list1.count(\"Ronesh\")\n",
    "print(ct)"
   ]
  },
  {
   "cell_type": "code",
   "execution_count": 2,
   "metadata": {},
   "outputs": [
    {
     "name": "stdout",
     "output_type": "stream",
     "text": [
      "['Ronesh', 23, 40000.0, 'Gujarat']\n",
      "['Ronesh', 23, 40000.0, 'Gujarat', 'Nadiad']\n",
      "['Ronesh', 23, 40000.0, 'Gujarat', 'Nadiad', ['Reading', 'Playing', 'Watching', 'Cricket']]\n",
      "['Ronesh', 23, 40000.0, 'Gujarat', ['Reading', 'Playing', 'Watching', 'Cricket']]\n",
      "['Ronesh', 23, 40000.0, 'Gujarat', ['Reading', 'Playing', 'Watching', 'Cricket']]\n"
     ]
    }
   ],
   "source": [
    "list2=[\"Ronesh\",23,40000.00,\"Gujarat\"]\n",
    "print(list2)\n",
    "list2.append(\"Nadiad\")\n",
    "print(list2)\n",
    "list2.append(['Reading','Playing','Watching','Cricket'])\n",
    "print(list2)\n",
    "list2.remove(\"Nadiad\")\n",
    "print(list2)\n",
    "print(list2)\n",
    "#list2.remove(\"Reading\")[4]\n"
   ]
  },
  {
   "cell_type": "code",
   "execution_count": 3,
   "metadata": {},
   "outputs": [
    {
     "data": {
      "text/plain": [
       "['Ronesh', 23, 40000.0, 'Gujarat', ['Reading', 'Watching', 'Cricket']]"
      ]
     },
     "execution_count": 3,
     "metadata": {},
     "output_type": "execute_result"
    }
   ],
   "source": [
    "#inner list elements remove\n",
    "del list2[4][1]\n",
    "list2"
   ]
  },
  {
   "cell_type": "code",
   "execution_count": 8,
   "metadata": {},
   "outputs": [
    {
     "data": {
      "text/plain": [
       "[9, 7, 5, 4]"
      ]
     },
     "execution_count": 8,
     "metadata": {},
     "output_type": "execute_result"
    }
   ],
   "source": [
    "list3=[3,1,9,7,5,4]\n",
    "del list3[:2]\n",
    "list3"
   ]
  },
  {
   "cell_type": "code",
   "execution_count": 9,
   "metadata": {},
   "outputs": [
    {
     "data": {
      "text/plain": [
       "[1, 9, 7, 5, 4]"
      ]
     },
     "execution_count": 9,
     "metadata": {},
     "output_type": "execute_result"
    }
   ],
   "source": [
    "list3.insert(0,1) #index and values\n",
    "list3"
   ]
  },
  {
   "cell_type": "code",
   "execution_count": 10,
   "metadata": {},
   "outputs": [
    {
     "data": {
      "text/plain": [
       "[4, 5, 7, 9, 1]"
      ]
     },
     "execution_count": 10,
     "metadata": {},
     "output_type": "execute_result"
    }
   ],
   "source": [
    "list3.reverse()\n",
    "list3"
   ]
  },
  {
   "cell_type": "code",
   "execution_count": 11,
   "metadata": {},
   "outputs": [
    {
     "data": {
      "text/plain": [
       "[1, 4, 5, 7, 9]"
      ]
     },
     "execution_count": 11,
     "metadata": {},
     "output_type": "execute_result"
    }
   ],
   "source": [
    "list3.sort()\n",
    "list3"
   ]
  },
  {
   "cell_type": "code",
   "execution_count": 15,
   "metadata": {},
   "outputs": [
    {
     "data": {
      "text/plain": [
       "[1, 4, 5, 7, 9]"
      ]
     },
     "execution_count": 15,
     "metadata": {},
     "output_type": "execute_result"
    }
   ],
   "source": [
    "list4=list3.copy()\n",
    "list4"
   ]
  },
  {
   "cell_type": "code",
   "execution_count": 16,
   "metadata": {},
   "outputs": [
    {
     "name": "stdout",
     "output_type": "stream",
     "text": [
      "[1, 4, 5, 7, 9]\n",
      "[1, 4, 5, 7, 9, 10]\n"
     ]
    }
   ],
   "source": [
    "list4.append(10)\n",
    "print(list3)\n",
    "print(list4)"
   ]
  },
  {
   "cell_type": "code",
   "execution_count": 17,
   "metadata": {},
   "outputs": [
    {
     "data": {
      "text/plain": [
       "10"
      ]
     },
     "execution_count": 17,
     "metadata": {},
     "output_type": "execute_result"
    }
   ],
   "source": [
    "list4.pop() # default  last value of list "
   ]
  },
  {
   "cell_type": "code",
   "execution_count": 18,
   "metadata": {},
   "outputs": [
    {
     "data": {
      "text/plain": [
       "[1, 4, 5, 7, 9]"
      ]
     },
     "execution_count": 18,
     "metadata": {},
     "output_type": "execute_result"
    }
   ],
   "source": [
    "list4"
   ]
  },
  {
   "cell_type": "markdown",
   "metadata": {},
   "source": [
    "Tuple"
   ]
  },
  {
   "cell_type": "code",
   "execution_count": 27,
   "metadata": {},
   "outputs": [
    {
     "name": "stdout",
     "output_type": "stream",
     "text": [
      "(5, 5, 5)\n",
      "3\n",
      "4\n",
      "(1, 2, 3, 4, 5, 5, 5)\n"
     ]
    }
   ],
   "source": [
    "t1=tuple()\n",
    "t1=(1,2,3,4,5,5,5)  # allowing duplicates \n",
    "print(t1[4:])\n",
    "print(t1.count(5))\n",
    "print(t1.index(5))\n",
    "print(t1)"
   ]
  },
  {
   "cell_type": "markdown",
   "metadata": {},
   "source": [
    "Dict"
   ]
  },
  {
   "cell_type": "code",
   "execution_count": 51,
   "metadata": {},
   "outputs": [],
   "source": [
    "d1={}"
   ]
  },
  {
   "cell_type": "code",
   "execution_count": 60,
   "metadata": {},
   "outputs": [
    {
     "name": "stdout",
     "output_type": "stream",
     "text": [
      "{'name': 'Ronesh', 'city': 'Nadiad', 'State': 'Gujarat', 'Age': 23}\n",
      "Ronesh\n",
      "Nadiad\n",
      "dict_keys(['name', 'city', 'State', 'Age'])\n",
      "dict_items([('name', 'Ronesh'), ('city', 'Nadiad'), ('State', 'Gujarat'), ('Age', 23)])\n"
     ]
    }
   ],
   "source": [
    "d1={'name':'Ronesh','city':'Nadiad','State':'Gujarat','Age':23}\n",
    "print(d1)\n",
    "print(d1['name'])\n",
    "print(d1.get('city'))\n",
    "print(d1.keys())\n",
    "print(d1.items())\n"
   ]
  },
  {
   "cell_type": "code",
   "execution_count": 61,
   "metadata": {},
   "outputs": [
    {
     "data": {
      "text/plain": [
       "{'name': 'Ronesh',\n",
       " 'city': 'Nadiad',\n",
       " 'State': 'Gujarat',\n",
       " 'Age': 23,\n",
       " 'hobbies': ['Cricket', 'Watching', 'Playing']}"
      ]
     },
     "execution_count": 61,
     "metadata": {},
     "output_type": "execute_result"
    }
   ],
   "source": [
    "d1.update({'hobbies':[\"Cricket\",\"Watching\",\"Playing\"]})\n",
    "d1"
   ]
  },
  {
   "cell_type": "code",
   "execution_count": 62,
   "metadata": {},
   "outputs": [
    {
     "data": {
      "text/plain": [
       "{'name': 'Ronesh',\n",
       " 'city': 'Nadiad',\n",
       " 'State': 'Gujarat',\n",
       " 'Age': 23,\n",
       " 'hobbies': ['Cricket', 'Watching', 'Playing'],\n",
       " 'Caste': ('Hindu', 'Sindhi')}"
      ]
     },
     "execution_count": 62,
     "metadata": {},
     "output_type": "execute_result"
    }
   ],
   "source": [
    "d1.update({'Caste':('Hindu','Sindhi')})\n",
    "d1"
   ]
  },
  {
   "cell_type": "code",
   "execution_count": 63,
   "metadata": {},
   "outputs": [
    {
     "data": {
      "text/plain": [
       "'Watching'"
      ]
     },
     "execution_count": 63,
     "metadata": {},
     "output_type": "execute_result"
    }
   ],
   "source": [
    "#retraving data from list of hobbies\n",
    "d1['hobbies'][1]"
   ]
  },
  {
   "cell_type": "code",
   "execution_count": 65,
   "metadata": {},
   "outputs": [
    {
     "data": {
      "text/plain": [
       "'Sindhi'"
      ]
     },
     "execution_count": 65,
     "metadata": {},
     "output_type": "execute_result"
    }
   ],
   "source": [
    "d1['Caste'][1]"
   ]
  },
  {
   "cell_type": "code",
   "execution_count": 67,
   "metadata": {},
   "outputs": [
    {
     "data": {
      "text/plain": [
       "{'name': 'Ronesh',\n",
       " 'city': 'Nadiad',\n",
       " 'State': 'Gujarat',\n",
       " 'Age': 23,\n",
       " 'hobbies': ['Cricket', 'Dancing', 'Playing'],\n",
       " 'Caste': ('Hindu', 'Sindhi')}"
      ]
     },
     "execution_count": 67,
     "metadata": {},
     "output_type": "execute_result"
    }
   ],
   "source": [
    "d1['hobbies'][1]=\"Dancing\"\n",
    "d1"
   ]
  },
  {
   "cell_type": "code",
   "execution_count": 68,
   "metadata": {},
   "outputs": [
    {
     "name": "stdout",
     "output_type": "stream",
     "text": [
      "('name', 'Ronesh')\n",
      "('city', 'Nadiad')\n",
      "('State', 'Gujarat')\n",
      "('Age', 23)\n",
      "('hobbies', ['Cricket', 'Dancing', 'Playing'])\n",
      "('Caste', ('Hindu', 'Sindhi'))\n"
     ]
    }
   ],
   "source": [
    "for i in d1.items():\n",
    "    print(i)"
   ]
  },
  {
   "cell_type": "code",
   "execution_count": 72,
   "metadata": {},
   "outputs": [
    {
     "name": "stdout",
     "output_type": "stream",
     "text": [
      "Key is :name and Values :Ronesh\n",
      "Key is :city and Values :Nadiad\n",
      "Key is :State and Values :Gujarat\n",
      "Key is :Age and Values :23\n",
      "Key is :hobbies and Values :['Cricket', 'Dancing', 'Playing']\n",
      "Key is :Caste and Values :('Hindu', 'Sindhi')\n"
     ]
    }
   ],
   "source": [
    "for k,v in d1.items():\n",
    "    print(\"Key is :\"+str(k)+\" and Values :\"+str(v))"
   ]
  },
  {
   "cell_type": "markdown",
   "metadata": {},
   "source": [
    "Set"
   ]
  },
  {
   "cell_type": "code",
   "execution_count": 34,
   "metadata": {},
   "outputs": [
    {
     "name": "stdout",
     "output_type": "stream",
     "text": [
      "<class 'set'>\n",
      "{1, 2, 3, 'hi', 10}\n"
     ]
    }
   ],
   "source": [
    "set1=set()\n",
    "print(type(set1))\n",
    "set1={1,2,3,10,\"hi\",10} # duplicates not allowed\n",
    "print(set1)"
   ]
  },
  {
   "cell_type": "code",
   "execution_count": 36,
   "metadata": {},
   "outputs": [
    {
     "data": {
      "text/plain": [
       "{1, 10, 2, 3, 'hi'}"
      ]
     },
     "execution_count": 36,
     "metadata": {},
     "output_type": "execute_result"
    }
   ],
   "source": [
    "set1 # not ordered"
   ]
  },
  {
   "cell_type": "code",
   "execution_count": 37,
   "metadata": {},
   "outputs": [
    {
     "data": {
      "text/plain": [
       "{1, 10, 11, 2, 3, 'hi'}"
      ]
     },
     "execution_count": 37,
     "metadata": {},
     "output_type": "execute_result"
    }
   ],
   "source": [
    "set1.add(11)\n",
    "set1"
   ]
  },
  {
   "cell_type": "code",
   "execution_count": 39,
   "metadata": {},
   "outputs": [],
   "source": [
    "set2={1,3,4,7,8,9}"
   ]
  },
  {
   "cell_type": "code",
   "execution_count": 40,
   "metadata": {},
   "outputs": [
    {
     "data": {
      "text/plain": [
       "{1, 10, 11, 2, 3, 4, 7, 8, 9, 'hi'}"
      ]
     },
     "execution_count": 40,
     "metadata": {},
     "output_type": "execute_result"
    }
   ],
   "source": [
    "set2.union(set1)"
   ]
  },
  {
   "cell_type": "code",
   "execution_count": 41,
   "metadata": {},
   "outputs": [
    {
     "data": {
      "text/plain": [
       "{1, 10, 11, 2, 3, 60, 70, 'hi'}"
      ]
     },
     "execution_count": 41,
     "metadata": {},
     "output_type": "execute_result"
    }
   ],
   "source": [
    "set1.update([60,70])\n",
    "set1"
   ]
  },
  {
   "cell_type": "code",
   "execution_count": 42,
   "metadata": {},
   "outputs": [
    {
     "data": {
      "text/plain": [
       "{1, 3}"
      ]
     },
     "execution_count": 42,
     "metadata": {},
     "output_type": "execute_result"
    }
   ],
   "source": [
    "set2.intersection(set1)"
   ]
  },
  {
   "cell_type": "code",
   "execution_count": 50,
   "metadata": {},
   "outputs": [
    {
     "data": {
      "text/plain": [
       "set()"
      ]
     },
     "execution_count": 50,
     "metadata": {},
     "output_type": "execute_result"
    }
   ],
   "source": [
    "set2.intersection_update(set1)\n",
    "set2"
   ]
  },
  {
   "cell_type": "code",
   "execution_count": null,
   "metadata": {},
   "outputs": [],
   "source": []
  },
  {
   "cell_type": "code",
   "execution_count": 43,
   "metadata": {},
   "outputs": [
    {
     "data": {
      "text/plain": [
       "{1, 4, 7, 8, 9}"
      ]
     },
     "execution_count": 43,
     "metadata": {},
     "output_type": "execute_result"
    }
   ],
   "source": [
    "set2.remove(3)\n",
    "set2\n"
   ]
  },
  {
   "cell_type": "code",
   "execution_count": 47,
   "metadata": {},
   "outputs": [
    {
     "data": {
      "text/plain": [
       "{1, 4, 7, 8, 9}"
      ]
     },
     "execution_count": 47,
     "metadata": {},
     "output_type": "execute_result"
    }
   ],
   "source": [
    "set1.difference(set2)\n",
    "set2"
   ]
  },
  {
   "cell_type": "code",
   "execution_count": 48,
   "metadata": {},
   "outputs": [
    {
     "data": {
      "text/plain": [
       "{1, 4, 7, 8, 9}"
      ]
     },
     "execution_count": 48,
     "metadata": {},
     "output_type": "execute_result"
    }
   ],
   "source": [
    "set1.difference_update(set2)\n",
    "set2"
   ]
  },
  {
   "cell_type": "code",
   "execution_count": null,
   "metadata": {},
   "outputs": [],
   "source": []
  }
 ],
 "metadata": {
  "kernelspec": {
   "display_name": "Python 3",
   "language": "python",
   "name": "python3"
  },
  "language_info": {
   "codemirror_mode": {
    "name": "ipython",
    "version": 3
   },
   "file_extension": ".py",
   "mimetype": "text/x-python",
   "name": "python",
   "nbconvert_exporter": "python",
   "pygments_lexer": "ipython3",
   "version": "3.8.3"
  }
 },
 "nbformat": 4,
 "nbformat_minor": 4
}
