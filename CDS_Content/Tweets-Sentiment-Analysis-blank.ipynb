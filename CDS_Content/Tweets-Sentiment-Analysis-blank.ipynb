{
 "cells": [
  {
   "cell_type": "raw",
   "metadata": {},
   "source": [
    "Sentiment analysis refers to the use of natural language processing, text analysis, computational linguistics, and biometrics to systematically identify, extract, quantify, and study affective states and subjective information.\n",
    "\n",
    "Sentiment Analysis is the process of ‘computationally’ determining whether a piece of writing is positive, negative or neutral. It’s also known as opinion mining, deriving the opinion or attitude of a speaker.\n",
    "\n",
    "Authentication:\n",
    "In order to fetch tweets through Twitter API, one needs to register an App through their twitter account. Follow these steps for the same:\n",
    "\n",
    "Open https://twitter.com/login?redirect_after_login=https%3A%2F%2Fdeveloper.twitter.com%2Fapps this link and click the button: ‘Create New App’\n",
    "Fill the application details. You can leave the callback url field empty.\n",
    "Once the app is created, you will be redirected to the app page.\n",
    "Open the ‘Keys and Access Tokens’ tab.\n",
    "Copy ‘Consumer Key’, ‘Consumer Secret’, ‘Access token’ and ‘Access Token Secret’.\n"
   ]
  },
  {
   "cell_type": "code",
   "execution_count": null,
   "metadata": {},
   "outputs": [],
   "source": [
    "#tweepy is the python client for the official Twitter API\n",
    "# textblob is the python library for processing textual data"
   ]
  },
  {
   "cell_type": "code",
   "execution_count": 3,
   "metadata": {
    "collapsed": true
   },
   "outputs": [
    {
     "name": "stdout",
     "output_type": "stream",
     "text": [
      "Requirement already satisfied: tweepy in c:\\users\\91950\\anaconda3\\lib\\site-packages (3.10.0)\n",
      "Requirement already satisfied: requests-oauthlib>=0.7.0 in c:\\users\\91950\\anaconda3\\lib\\site-packages (from tweepy) (1.3.0)\n",
      "Requirement already satisfied: requests[socks]>=2.11.1 in c:\\users\\91950\\anaconda3\\lib\\site-packages (from tweepy) (2.24.0)\n",
      "Requirement already satisfied: six>=1.10.0 in c:\\users\\91950\\anaconda3\\lib\\site-packages (from tweepy) (1.15.0)\n",
      "Requirement already satisfied: oauthlib>=3.0.0 in c:\\users\\91950\\anaconda3\\lib\\site-packages (from requests-oauthlib>=0.7.0->tweepy) (3.1.0)\n",
      "Requirement already satisfied: idna<3,>=2.5 in c:\\users\\91950\\anaconda3\\lib\\site-packages (from requests[socks]>=2.11.1->tweepy) (2.10)\n",
      "Requirement already satisfied: chardet<4,>=3.0.2 in c:\\users\\91950\\anaconda3\\lib\\site-packages (from requests[socks]>=2.11.1->tweepy) (3.0.4)\n",
      "Requirement already satisfied: certifi>=2017.4.17 in c:\\users\\91950\\anaconda3\\lib\\site-packages (from requests[socks]>=2.11.1->tweepy) (2020.6.20)\n",
      "Requirement already satisfied: urllib3!=1.25.0,!=1.25.1,<1.26,>=1.21.1 in c:\\users\\91950\\anaconda3\\lib\\site-packages (from requests[socks]>=2.11.1->tweepy) (1.25.9)\n",
      "Requirement already satisfied: PySocks!=1.5.7,>=1.5.6; extra == \"socks\" in c:\\users\\91950\\anaconda3\\lib\\site-packages (from requests[socks]>=2.11.1->tweepy) (1.7.1)\n",
      "Requirement already satisfied: textblob in c:\\users\\91950\\anaconda3\\lib\\site-packages (0.15.3)\n",
      "Requirement already satisfied: nltk>=3.1 in c:\\users\\91950\\anaconda3\\lib\\site-packages (from textblob) (3.5)\n",
      "Requirement already satisfied: tqdm in c:\\users\\91950\\anaconda3\\lib\\site-packages (from nltk>=3.1->textblob) (4.47.0)\n",
      "Requirement already satisfied: joblib in c:\\users\\91950\\anaconda3\\lib\\site-packages (from nltk>=3.1->textblob) (0.16.0)\n",
      "Requirement already satisfied: click in c:\\users\\91950\\anaconda3\\lib\\site-packages (from nltk>=3.1->textblob) (7.1.2)\n",
      "Requirement already satisfied: regex in c:\\users\\91950\\anaconda3\\lib\\site-packages (from nltk>=3.1->textblob) (2020.6.8)\n"
     ]
    }
   ],
   "source": [
    "!pip install tweepy \n",
    "!pip install textblob "
   ]
  },
  {
   "cell_type": "code",
   "execution_count": 11,
   "metadata": {},
   "outputs": [],
   "source": [
    "import re # regular expression / regex\n",
    "import tweepy #Collect tweets\n",
    "from tweepy import OAuthHandler # Authentication\n",
    "from textblob import TextBlob # provides text mining, text analysis and text processing modules"
   ]
  },
  {
   "cell_type": "code",
   "execution_count": 12,
   "metadata": {},
   "outputs": [],
   "source": [
    "\n",
    "# keys and tokens from the Twitter Dev Console\n",
    "consumer_key = 'ts8RhO1B1qIzdSLaDsaise89a'\n",
    "consumer_secret = 'A4ZawHMrKiAaoxfQhmjrW5F2gWwgjh9jhCuvczy8cymLaTJfES'\n",
    "access_token = '929606650415136768-Ok0ca8lkQk7oD8xNUqKWKg9VyoEXJRV'\n",
    "access_token_secret = '5mJm07yiPpvFB7M4Z9l4yaip4k6gvSpL2mEMMs6sEXjqX'\n",
    "# create OAuthHandler object\n",
    "auth = OAuthHandler(consumer_key, consumer_secret)\n",
    "# set access token and secret\n",
    "auth.set_access_token(access_token, access_token_secret)\n",
    "# create tweepy API object to fetch tweets\n",
    "api = tweepy.API(auth)\n",
    "\n",
    "\n",
    "\n",
    "\n",
    "def get_sentiment(tweet):\n",
    "    analysis = TextBlob(tweet)\n",
    "    if analysis.sentiment.polarity > 0:\n",
    "        return 'positive'\n",
    "    elif analysis.sentiment.polarity <0:\n",
    "        return 'negative'\n",
    "    else:\n",
    "        return 'neutral'\n",
    "    \n",
    "    \n",
    "    \n",
    "    \n",
    "\n",
    "def get_tweets(query):\n",
    " \n",
    "    tweets = []\n",
    "\n",
    "    # call twitter api to fetch tweets\n",
    "    fetched_tweets = api.search(query,count=1000)\n",
    "\n",
    "    for tweet in fetched_tweets:\n",
    "        # empty dictionary to store required params of a tweet\n",
    "        parsed_tweet = {}\n",
    "\n",
    "        # saving text of tweet\n",
    "        parsed_tweet['text'] = tweet.text\n",
    "        # saving sentiment of tweet\n",
    "        parsed_tweet['sentiment'] = get_sentiment(tweet.text)\n",
    "\n",
    "        # appending parsed tweet to tweets list\n",
    "        if tweet.retweet_count > 0:\n",
    "            # if tweet has retweets, ensure that it is appended only once\n",
    "            if parsed_tweet not in tweets:\n",
    "                tweets.append(parsed_tweet)\n",
    "        else:\n",
    "            tweets.append(parsed_tweet)\n",
    "\n",
    "    # return parsed tweets\n",
    "    return tweets\n",
    "\n",
    "\n",
    "def analyze(querytext):\n",
    "    tweets = get_tweets(query = querytext)\n",
    "    print(\"Queries Text : \", querytext)\n",
    "    # picking positive tweets from tweets\n",
    "    ptweets = [tweet for tweet in tweets if tweet['sentiment'] == 'positive']\n",
    "    # percentage of positive tweets\n",
    "    print(\"Positive tweets percentage: {} %\".format(100*len(ptweets)/len(tweets)))\n",
    "    # picking negative tweets from tweets\n",
    "    ntweets = [tweet for tweet in tweets if tweet['sentiment'] == 'negative']\n",
    "    # percentage of negative tweets\n",
    "    print(\"Negative tweets percentage: {} %\".format(100*len(ntweets)/len(tweets)))\n",
    "    # percentage of neutral tweets\n",
    "    print(\"Neutral tweets percentage: {} %\".format(100*(len(tweets) - len(ntweets) - len(ptweets))/len(tweets)))\n",
    "    print(\"\\n\\n Total Tweets:\",len(tweets))\n",
    "    # printing first 5 positive tweets\n",
    "    print(\"\\n\\nPositive tweets:\")\n",
    "    for tweet in ptweets[:5]:\n",
    "        print(tweet['text'])\n",
    " \n",
    "    # printing first 5 negative tweets\n",
    "    print(\"\\n\\nNegative tweets:\")\n",
    "    for tweet in ntweets[:5]:\n",
    "        print(tweet['text'])"
   ]
  },
  {
   "cell_type": "code",
   "execution_count": 16,
   "metadata": {},
   "outputs": [
    {
     "name": "stdout",
     "output_type": "stream",
     "text": [
      "Queries Text :  modi\n",
      "Positive tweets percentage: 36.986301369863014 %\n",
      "Negative tweets percentage: 9.58904109589041 %\n",
      "Neutral tweets percentage: 53.42465753424658 %\n",
      "\n",
      "\n",
      " Total Tweets: 73\n",
      "\n",
      "\n",
      "Positive tweets:\n",
      "@simply_complex_ @RanaAyyub Modi dont have the balls to take any action against @RanaAyyub. It’ll be an internation… https://t.co/h3Zynqfphm\n",
      "RT @ParmeshwarDas6: Modi insulted all these great personalities of the world. #आंदोलनजीवी_हूं_जुमलाजीवी_नहीं https://t.co/I0MAuUBMmy\n",
      "@LicypriyaK @meenaharris All keeping loudspeaker😂😂🤣\n",
      "East or West Modi and India are best 🇮🇳\n",
      "RT @Trisendra1: #आंदोलनजीवी_हूँ_जुमलाजीवी_नहीं\n",
      "Modi insulted all these great personalities\n",
      "#आंदोलनजीवी_हूँ_जुमलाजीवी_नहीं https://t.co/qptu…\n",
      "RT @Shivrajmeena123: Modi insulted all these great personalities of the world. #आंदोलनजीवी_हूं_जुमलाजीवी_नहीं https://t.co/kB793S78go\n",
      "\n",
      "\n",
      "Negative tweets:\n",
      "RT @SitaramYechury: Modi govt is hellbent on looting the hard earned savings of the people. \n",
      "Negating the security provided by bank nationa…\n",
      "RT @KartikeyaTanna: Yesterday, Modi could throw at Ghulam Nabi Azad a G23 gibe &amp; today, he broke down recollecting his compassion for terro…\n",
      "Please support indian farmers.The corrupt Modi government is  going to spoil future of poor indian farmers and labourer .\n",
      "RT @RanaAyyub: India’s government has threatened to punish employees at Twitter with fines, jail terms of up to seven years for restoring h…\n",
      "RT @SaketGokhale: In today's White House press statement, President Biden subtly reminds PM Modi that \"a shared commitment to democratic va…\n"
     ]
    }
   ],
   "source": [
    "analyze('modi')"
   ]
  },
  {
   "cell_type": "code",
   "execution_count": null,
   "metadata": {},
   "outputs": [],
   "source": []
  }
 ],
 "metadata": {
  "kernelspec": {
   "display_name": "Python 3",
   "language": "python",
   "name": "python3"
  },
  "language_info": {
   "codemirror_mode": {
    "name": "ipython",
    "version": 3
   },
   "file_extension": ".py",
   "mimetype": "text/x-python",
   "name": "python",
   "nbconvert_exporter": "python",
   "pygments_lexer": "ipython3",
   "version": "3.8.3"
  }
 },
 "nbformat": 4,
 "nbformat_minor": 2
}
