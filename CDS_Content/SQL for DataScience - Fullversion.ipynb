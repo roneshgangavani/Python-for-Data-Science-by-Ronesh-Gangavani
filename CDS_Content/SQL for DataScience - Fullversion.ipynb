{
 "cells": [
  {
   "cell_type": "code",
   "execution_count": null,
   "metadata": {},
   "outputs": [],
   "source": [
    "!pip install sqlalchemy\n",
    "!pip install pymysql"
   ]
  },
  {
   "cell_type": "code",
   "execution_count": null,
   "metadata": {},
   "outputs": [],
   "source": [
    "from sqlalchemy import create_engine\n",
    "import pandas as pd"
   ]
  },
  {
   "cell_type": "code",
   "execution_count": null,
   "metadata": {},
   "outputs": [],
   "source": [
    "db_host = '18.136.157.135:3306' # port: 3306\n",
    "username = 'dm_user_sql'\n",
    "user_pass = '37z49REb$nK@nlpV!vJ'\n",
    "db_name = 'datamites_sql'\n",
    "\n",
    "conn = create_engine('mysql+pymysql://'+username+':'+user_pass+'@'+db_host+'/'+db_name)\n",
    "conn.table_names()"
   ]
  },
  {
   "cell_type": "code",
   "execution_count": null,
   "metadata": {},
   "outputs": [],
   "source": [
    "query = \"select * from orders\" # SQL statement\n",
    "orders = pd.read_sql(query,conn)\n",
    "print(orders.shape)\n",
    "orders"
   ]
  },
  {
   "cell_type": "code",
   "execution_count": null,
   "metadata": {
    "scrolled": true
   },
   "outputs": [],
   "source": [
    "query = \"select * from customers\"\n",
    "customers = pd.read_sql(query,conn)\n",
    "print(customers.shape)\n",
    "customers"
   ]
  },
  {
   "cell_type": "code",
   "execution_count": null,
   "metadata": {},
   "outputs": [],
   "source": [
    "query = \"select * from products\"\n",
    "products = pd.read_sql(query,conn)\n",
    "print(products.shape)\n",
    "products"
   ]
  },
  {
   "cell_type": "markdown",
   "metadata": {},
   "source": [
    "# SQL Where Condition"
   ]
  },
  {
   "cell_type": "code",
   "execution_count": null,
   "metadata": {},
   "outputs": [],
   "source": [
    "query = \"select * from products where category='Furniture'\"\n",
    "products = pd.read_sql(query,conn)\n",
    "print(products.shape)\n",
    "products"
   ]
  },
  {
   "cell_type": "markdown",
   "metadata": {},
   "source": [
    "# SQL Where Condition and logical statement"
   ]
  },
  {
   "cell_type": "code",
   "execution_count": null,
   "metadata": {},
   "outputs": [],
   "source": [
    "query = \"select * from products where category='Furniture' or category='Technology'\"\n",
    "products = pd.read_sql(query,conn)\n",
    "print(products.shape)\n",
    "products"
   ]
  },
  {
   "cell_type": "markdown",
   "metadata": {},
   "source": [
    "## SQL Left Join\n",
    "also called as Left Outer Join\n",
    "* LEFT OUTER join includes unmatched rows from the left table while RIGHT OUTER join includes unmatched rows from the right side of the table.\n",
    "\n",
    "* The result of LEFT OUTER join can be seen as INNER JOIN + unmatched rows of left table while the result of the RIGHT OUTER join is equal to INNER JOIN + unmatched rows from the right side table.\n"
   ]
  },
  {
   "cell_type": "code",
   "execution_count": null,
   "metadata": {},
   "outputs": [],
   "source": [
    "# fechting only customers details who have orders\n",
    "query = \"select * from orders  left join customers on orders.customer_id=customers.customer_id\"\n",
    "data = pd.read_sql(query,conn)\n",
    "print(data.shape)\n",
    "data"
   ]
  },
  {
   "cell_type": "markdown",
   "metadata": {},
   "source": [
    "## SQL Right Join\n",
    "Also called as Right outer join"
   ]
  },
  {
   "cell_type": "code",
   "execution_count": null,
   "metadata": {},
   "outputs": [],
   "source": [
    "# fechting only customers details who have orders\n",
    "query = \"select * from orders  right join customers on orders.customer_id=customers.customer_id\"\n",
    "data = pd.read_sql(query,conn)\n",
    "print(data.shape)\n",
    "data"
   ]
  },
  {
   "cell_type": "code",
   "execution_count": null,
   "metadata": {},
   "outputs": [],
   "source": [
    "# fechting only customers details who have orders\n",
    "query = \"select * from customers  right join orders on orders.customer_id=customers.customer_id\"\n",
    "data = pd.read_sql(query,conn)\n",
    "print(data.shape)\n",
    "data.head(50)"
   ]
  },
  {
   "cell_type": "markdown",
   "metadata": {},
   "source": [
    "## SQL Inner Join\n",
    "This is default"
   ]
  },
  {
   "cell_type": "code",
   "execution_count": null,
   "metadata": {},
   "outputs": [],
   "source": [
    "# fechting only customers details who have orders\n",
    "query = \"select * from customers  inner join orders on orders.customer_id=customers.customer_id\"\n",
    "data = pd.read_sql(query,conn)\n",
    "print(data.shape)\n",
    "data.head(50)"
   ]
  },
  {
   "cell_type": "markdown",
   "metadata": {},
   "source": [
    "#  Join multiple tables"
   ]
  },
  {
   "cell_type": "code",
   "execution_count": null,
   "metadata": {},
   "outputs": [],
   "source": [
    "# fechting only customers details who have orders\n",
    "query = \"select * from orders  \\\n",
    "left join customers on orders.customer_id=customers.customer_id \\\n",
    "left join products  on orders.product_id = products.product_id\"\n",
    "data = pd.read_sql(query,conn)\n",
    "print(data.shape)\n",
    "data"
   ]
  },
  {
   "cell_type": "markdown",
   "metadata": {},
   "source": [
    "## Quick Assessment"
   ]
  },
  {
   "cell_type": "raw",
   "metadata": {},
   "source": [
    "Fetch Orders information of the customers from the California State."
   ]
  },
  {
   "cell_type": "raw",
   "metadata": {},
   "source": [
    "Fetch Orders information of customers from california who ordered furnitures."
   ]
  },
  {
   "cell_type": "code",
   "execution_count": null,
   "metadata": {},
   "outputs": [],
   "source": []
  },
  {
   "cell_type": "code",
   "execution_count": null,
   "metadata": {},
   "outputs": [],
   "source": []
  }
 ],
 "metadata": {
  "kernelspec": {
   "display_name": "Python 3",
   "language": "python",
   "name": "python3"
  },
  "language_info": {
   "codemirror_mode": {
    "name": "ipython",
    "version": 3
   },
   "file_extension": ".py",
   "mimetype": "text/x-python",
   "name": "python",
   "nbconvert_exporter": "python",
   "pygments_lexer": "ipython3",
   "version": "3.8.3"
  }
 },
 "nbformat": 4,
 "nbformat_minor": 2
}
