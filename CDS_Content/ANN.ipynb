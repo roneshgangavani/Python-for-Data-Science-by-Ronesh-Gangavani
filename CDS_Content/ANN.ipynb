{
 "cells": [
  {
   "cell_type": "code",
   "execution_count": 1,
   "metadata": {},
   "outputs": [
    {
     "name": "stderr",
     "output_type": "stream",
     "text": [
      "<frozen importlib._bootstrap>:219: RuntimeWarning: numpy.ufunc size changed, may indicate binary incompatibility. Expected 192 from C header, got 216 from PyObject\n"
     ]
    }
   ],
   "source": [
    "import pandas as pd\n",
    "from sklearn.model_selection import train_test_split\n",
    "from sklearn.metrics import accuracy_score, classification_report\n",
    "from sklearn.preprocessing import LabelEncoder,scale\n",
    "from sklearn.neural_network import MLPClassifier"
   ]
  },
  {
   "cell_type": "code",
   "execution_count": 2,
   "metadata": {
    "collapsed": true
   },
   "outputs": [
    {
     "data": {
      "text/html": [
       "<div>\n",
       "<style scoped>\n",
       "    .dataframe tbody tr th:only-of-type {\n",
       "        vertical-align: middle;\n",
       "    }\n",
       "\n",
       "    .dataframe tbody tr th {\n",
       "        vertical-align: top;\n",
       "    }\n",
       "\n",
       "    .dataframe thead th {\n",
       "        text-align: right;\n",
       "    }\n",
       "</style>\n",
       "<table border=\"1\" class=\"dataframe\">\n",
       "  <thead>\n",
       "    <tr style=\"text-align: right;\">\n",
       "      <th></th>\n",
       "      <th>buying</th>\n",
       "      <th>maint</th>\n",
       "      <th>doors</th>\n",
       "      <th>persons</th>\n",
       "      <th>lug_boot</th>\n",
       "      <th>safety</th>\n",
       "      <th>outcome</th>\n",
       "    </tr>\n",
       "  </thead>\n",
       "  <tbody>\n",
       "    <tr>\n",
       "      <th>0</th>\n",
       "      <td>vhigh</td>\n",
       "      <td>vhigh</td>\n",
       "      <td>2</td>\n",
       "      <td>2</td>\n",
       "      <td>small</td>\n",
       "      <td>low</td>\n",
       "      <td>unacc</td>\n",
       "    </tr>\n",
       "    <tr>\n",
       "      <th>1</th>\n",
       "      <td>vhigh</td>\n",
       "      <td>vhigh</td>\n",
       "      <td>2</td>\n",
       "      <td>2</td>\n",
       "      <td>small</td>\n",
       "      <td>med</td>\n",
       "      <td>unacc</td>\n",
       "    </tr>\n",
       "    <tr>\n",
       "      <th>2</th>\n",
       "      <td>vhigh</td>\n",
       "      <td>vhigh</td>\n",
       "      <td>2</td>\n",
       "      <td>2</td>\n",
       "      <td>small</td>\n",
       "      <td>high</td>\n",
       "      <td>unacc</td>\n",
       "    </tr>\n",
       "    <tr>\n",
       "      <th>3</th>\n",
       "      <td>vhigh</td>\n",
       "      <td>vhigh</td>\n",
       "      <td>2</td>\n",
       "      <td>2</td>\n",
       "      <td>med</td>\n",
       "      <td>low</td>\n",
       "      <td>unacc</td>\n",
       "    </tr>\n",
       "    <tr>\n",
       "      <th>4</th>\n",
       "      <td>vhigh</td>\n",
       "      <td>vhigh</td>\n",
       "      <td>2</td>\n",
       "      <td>2</td>\n",
       "      <td>med</td>\n",
       "      <td>med</td>\n",
       "      <td>unacc</td>\n",
       "    </tr>\n",
       "  </tbody>\n",
       "</table>\n",
       "</div>"
      ],
      "text/plain": [
       "  buying  maint  doors  persons lug_boot safety outcome\n",
       "0  vhigh  vhigh      2        2    small    low   unacc\n",
       "1  vhigh  vhigh      2        2    small    med   unacc\n",
       "2  vhigh  vhigh      2        2    small   high   unacc\n",
       "3  vhigh  vhigh      2        2      med    low   unacc\n",
       "4  vhigh  vhigh      2        2      med    med   unacc"
      ]
     },
     "execution_count": 2,
     "metadata": {},
     "output_type": "execute_result"
    }
   ],
   "source": [
    "data = pd.read_csv('car_evaluation.csv')\n",
    "data.head()"
   ]
  },
  {
   "cell_type": "code",
   "execution_count": 3,
   "metadata": {
    "collapsed": true
   },
   "outputs": [
    {
     "name": "stdout",
     "output_type": "stream",
     "text": [
      "<class 'pandas.core.frame.DataFrame'>\n",
      "RangeIndex: 1728 entries, 0 to 1727\n",
      "Data columns (total 7 columns):\n",
      " #   Column    Non-Null Count  Dtype \n",
      "---  ------    --------------  ----- \n",
      " 0   buying    1728 non-null   object\n",
      " 1   maint     1728 non-null   object\n",
      " 2   doors     1728 non-null   int64 \n",
      " 3   persons   1728 non-null   int64 \n",
      " 4   lug_boot  1728 non-null   object\n",
      " 5   safety    1728 non-null   object\n",
      " 6   outcome   1728 non-null   object\n",
      "dtypes: int64(2), object(5)\n",
      "memory usage: 94.6+ KB\n"
     ]
    }
   ],
   "source": [
    "data.info()"
   ]
  },
  {
   "cell_type": "code",
   "execution_count": 4,
   "metadata": {
    "collapsed": true
   },
   "outputs": [
    {
     "data": {
      "text/plain": [
       "buying      0\n",
       "maint       0\n",
       "doors       0\n",
       "persons     0\n",
       "lug_boot    0\n",
       "safety      0\n",
       "outcome     0\n",
       "dtype: int64"
      ]
     },
     "execution_count": 4,
     "metadata": {},
     "output_type": "execute_result"
    }
   ],
   "source": [
    "data.isnull().sum()"
   ]
  },
  {
   "cell_type": "code",
   "execution_count": 7,
   "metadata": {},
   "outputs": [],
   "source": [
    "X = data.iloc[:,:-1]\n",
    "y = data.outcome"
   ]
  },
  {
   "cell_type": "code",
   "execution_count": 8,
   "metadata": {
    "collapsed": true
   },
   "outputs": [
    {
     "data": {
      "text/html": [
       "<div>\n",
       "<style scoped>\n",
       "    .dataframe tbody tr th:only-of-type {\n",
       "        vertical-align: middle;\n",
       "    }\n",
       "\n",
       "    .dataframe tbody tr th {\n",
       "        vertical-align: top;\n",
       "    }\n",
       "\n",
       "    .dataframe thead th {\n",
       "        text-align: right;\n",
       "    }\n",
       "</style>\n",
       "<table border=\"1\" class=\"dataframe\">\n",
       "  <thead>\n",
       "    <tr style=\"text-align: right;\">\n",
       "      <th></th>\n",
       "      <th>buying</th>\n",
       "      <th>maint</th>\n",
       "      <th>doors</th>\n",
       "      <th>persons</th>\n",
       "      <th>lug_boot</th>\n",
       "      <th>safety</th>\n",
       "    </tr>\n",
       "  </thead>\n",
       "  <tbody>\n",
       "    <tr>\n",
       "      <th>0</th>\n",
       "      <td>vhigh</td>\n",
       "      <td>vhigh</td>\n",
       "      <td>2</td>\n",
       "      <td>2</td>\n",
       "      <td>small</td>\n",
       "      <td>low</td>\n",
       "    </tr>\n",
       "    <tr>\n",
       "      <th>1</th>\n",
       "      <td>vhigh</td>\n",
       "      <td>vhigh</td>\n",
       "      <td>2</td>\n",
       "      <td>2</td>\n",
       "      <td>small</td>\n",
       "      <td>med</td>\n",
       "    </tr>\n",
       "    <tr>\n",
       "      <th>2</th>\n",
       "      <td>vhigh</td>\n",
       "      <td>vhigh</td>\n",
       "      <td>2</td>\n",
       "      <td>2</td>\n",
       "      <td>small</td>\n",
       "      <td>high</td>\n",
       "    </tr>\n",
       "    <tr>\n",
       "      <th>3</th>\n",
       "      <td>vhigh</td>\n",
       "      <td>vhigh</td>\n",
       "      <td>2</td>\n",
       "      <td>2</td>\n",
       "      <td>med</td>\n",
       "      <td>low</td>\n",
       "    </tr>\n",
       "    <tr>\n",
       "      <th>4</th>\n",
       "      <td>vhigh</td>\n",
       "      <td>vhigh</td>\n",
       "      <td>2</td>\n",
       "      <td>2</td>\n",
       "      <td>med</td>\n",
       "      <td>med</td>\n",
       "    </tr>\n",
       "    <tr>\n",
       "      <th>...</th>\n",
       "      <td>...</td>\n",
       "      <td>...</td>\n",
       "      <td>...</td>\n",
       "      <td>...</td>\n",
       "      <td>...</td>\n",
       "      <td>...</td>\n",
       "    </tr>\n",
       "    <tr>\n",
       "      <th>1723</th>\n",
       "      <td>low</td>\n",
       "      <td>low</td>\n",
       "      <td>5</td>\n",
       "      <td>5</td>\n",
       "      <td>med</td>\n",
       "      <td>med</td>\n",
       "    </tr>\n",
       "    <tr>\n",
       "      <th>1724</th>\n",
       "      <td>low</td>\n",
       "      <td>low</td>\n",
       "      <td>5</td>\n",
       "      <td>5</td>\n",
       "      <td>med</td>\n",
       "      <td>high</td>\n",
       "    </tr>\n",
       "    <tr>\n",
       "      <th>1725</th>\n",
       "      <td>low</td>\n",
       "      <td>low</td>\n",
       "      <td>5</td>\n",
       "      <td>5</td>\n",
       "      <td>big</td>\n",
       "      <td>low</td>\n",
       "    </tr>\n",
       "    <tr>\n",
       "      <th>1726</th>\n",
       "      <td>low</td>\n",
       "      <td>low</td>\n",
       "      <td>5</td>\n",
       "      <td>5</td>\n",
       "      <td>big</td>\n",
       "      <td>med</td>\n",
       "    </tr>\n",
       "    <tr>\n",
       "      <th>1727</th>\n",
       "      <td>low</td>\n",
       "      <td>low</td>\n",
       "      <td>5</td>\n",
       "      <td>5</td>\n",
       "      <td>big</td>\n",
       "      <td>high</td>\n",
       "    </tr>\n",
       "  </tbody>\n",
       "</table>\n",
       "<p>1728 rows × 6 columns</p>\n",
       "</div>"
      ],
      "text/plain": [
       "     buying  maint  doors  persons lug_boot safety\n",
       "0     vhigh  vhigh      2        2    small    low\n",
       "1     vhigh  vhigh      2        2    small    med\n",
       "2     vhigh  vhigh      2        2    small   high\n",
       "3     vhigh  vhigh      2        2      med    low\n",
       "4     vhigh  vhigh      2        2      med    med\n",
       "...     ...    ...    ...      ...      ...    ...\n",
       "1723    low    low      5        5      med    med\n",
       "1724    low    low      5        5      med   high\n",
       "1725    low    low      5        5      big    low\n",
       "1726    low    low      5        5      big    med\n",
       "1727    low    low      5        5      big   high\n",
       "\n",
       "[1728 rows x 6 columns]"
      ]
     },
     "execution_count": 8,
     "metadata": {},
     "output_type": "execute_result"
    }
   ],
   "source": [
    "X"
   ]
  },
  {
   "cell_type": "code",
   "execution_count": 9,
   "metadata": {},
   "outputs": [],
   "source": [
    "enc = LabelEncoder()\n",
    "X.buying = enc.fit_transform(X.buying)\n",
    "X.maint = enc.fit_transform(X.maint)\n",
    "X.lug_boot = enc.fit_transform(X.lug_boot)\n",
    "X.safety = enc.fit_transform(X.safety)\n"
   ]
  },
  {
   "cell_type": "code",
   "execution_count": 10,
   "metadata": {
    "collapsed": true
   },
   "outputs": [
    {
     "data": {
      "text/html": [
       "<div>\n",
       "<style scoped>\n",
       "    .dataframe tbody tr th:only-of-type {\n",
       "        vertical-align: middle;\n",
       "    }\n",
       "\n",
       "    .dataframe tbody tr th {\n",
       "        vertical-align: top;\n",
       "    }\n",
       "\n",
       "    .dataframe thead th {\n",
       "        text-align: right;\n",
       "    }\n",
       "</style>\n",
       "<table border=\"1\" class=\"dataframe\">\n",
       "  <thead>\n",
       "    <tr style=\"text-align: right;\">\n",
       "      <th></th>\n",
       "      <th>buying</th>\n",
       "      <th>maint</th>\n",
       "      <th>doors</th>\n",
       "      <th>persons</th>\n",
       "      <th>lug_boot</th>\n",
       "      <th>safety</th>\n",
       "    </tr>\n",
       "  </thead>\n",
       "  <tbody>\n",
       "    <tr>\n",
       "      <th>0</th>\n",
       "      <td>3</td>\n",
       "      <td>3</td>\n",
       "      <td>2</td>\n",
       "      <td>2</td>\n",
       "      <td>2</td>\n",
       "      <td>1</td>\n",
       "    </tr>\n",
       "    <tr>\n",
       "      <th>1</th>\n",
       "      <td>3</td>\n",
       "      <td>3</td>\n",
       "      <td>2</td>\n",
       "      <td>2</td>\n",
       "      <td>2</td>\n",
       "      <td>2</td>\n",
       "    </tr>\n",
       "    <tr>\n",
       "      <th>2</th>\n",
       "      <td>3</td>\n",
       "      <td>3</td>\n",
       "      <td>2</td>\n",
       "      <td>2</td>\n",
       "      <td>2</td>\n",
       "      <td>0</td>\n",
       "    </tr>\n",
       "    <tr>\n",
       "      <th>3</th>\n",
       "      <td>3</td>\n",
       "      <td>3</td>\n",
       "      <td>2</td>\n",
       "      <td>2</td>\n",
       "      <td>1</td>\n",
       "      <td>1</td>\n",
       "    </tr>\n",
       "    <tr>\n",
       "      <th>4</th>\n",
       "      <td>3</td>\n",
       "      <td>3</td>\n",
       "      <td>2</td>\n",
       "      <td>2</td>\n",
       "      <td>1</td>\n",
       "      <td>2</td>\n",
       "    </tr>\n",
       "    <tr>\n",
       "      <th>...</th>\n",
       "      <td>...</td>\n",
       "      <td>...</td>\n",
       "      <td>...</td>\n",
       "      <td>...</td>\n",
       "      <td>...</td>\n",
       "      <td>...</td>\n",
       "    </tr>\n",
       "    <tr>\n",
       "      <th>1723</th>\n",
       "      <td>1</td>\n",
       "      <td>1</td>\n",
       "      <td>5</td>\n",
       "      <td>5</td>\n",
       "      <td>1</td>\n",
       "      <td>2</td>\n",
       "    </tr>\n",
       "    <tr>\n",
       "      <th>1724</th>\n",
       "      <td>1</td>\n",
       "      <td>1</td>\n",
       "      <td>5</td>\n",
       "      <td>5</td>\n",
       "      <td>1</td>\n",
       "      <td>0</td>\n",
       "    </tr>\n",
       "    <tr>\n",
       "      <th>1725</th>\n",
       "      <td>1</td>\n",
       "      <td>1</td>\n",
       "      <td>5</td>\n",
       "      <td>5</td>\n",
       "      <td>0</td>\n",
       "      <td>1</td>\n",
       "    </tr>\n",
       "    <tr>\n",
       "      <th>1726</th>\n",
       "      <td>1</td>\n",
       "      <td>1</td>\n",
       "      <td>5</td>\n",
       "      <td>5</td>\n",
       "      <td>0</td>\n",
       "      <td>2</td>\n",
       "    </tr>\n",
       "    <tr>\n",
       "      <th>1727</th>\n",
       "      <td>1</td>\n",
       "      <td>1</td>\n",
       "      <td>5</td>\n",
       "      <td>5</td>\n",
       "      <td>0</td>\n",
       "      <td>0</td>\n",
       "    </tr>\n",
       "  </tbody>\n",
       "</table>\n",
       "<p>1728 rows × 6 columns</p>\n",
       "</div>"
      ],
      "text/plain": [
       "      buying  maint  doors  persons  lug_boot  safety\n",
       "0          3      3      2        2         2       1\n",
       "1          3      3      2        2         2       2\n",
       "2          3      3      2        2         2       0\n",
       "3          3      3      2        2         1       1\n",
       "4          3      3      2        2         1       2\n",
       "...      ...    ...    ...      ...       ...     ...\n",
       "1723       1      1      5        5         1       2\n",
       "1724       1      1      5        5         1       0\n",
       "1725       1      1      5        5         0       1\n",
       "1726       1      1      5        5         0       2\n",
       "1727       1      1      5        5         0       0\n",
       "\n",
       "[1728 rows x 6 columns]"
      ]
     },
     "execution_count": 10,
     "metadata": {},
     "output_type": "execute_result"
    }
   ],
   "source": [
    "X"
   ]
  },
  {
   "cell_type": "code",
   "execution_count": 11,
   "metadata": {},
   "outputs": [],
   "source": [
    "X_train,X_test,y_train,y_test = train_test_split(X,y,test_size=0.2,random_state=10)\n"
   ]
  },
  {
   "cell_type": "code",
   "execution_count": 12,
   "metadata": {},
   "outputs": [
    {
     "name": "stderr",
     "output_type": "stream",
     "text": [
      "C:\\Users\\91950\\anaconda3\\lib\\site-packages\\sklearn\\neural_network\\_multilayer_perceptron.py:582: ConvergenceWarning: Stochastic Optimizer: Maximum iterations (200) reached and the optimization hasn't converged yet.\n",
      "  warnings.warn(\n"
     ]
    },
    {
     "data": {
      "text/plain": [
       "0.9855491329479769"
      ]
     },
     "execution_count": 12,
     "metadata": {},
     "output_type": "execute_result"
    }
   ],
   "source": [
    "model = MLPClassifier(hidden_layer_sizes=(50,40,30),random_state=10)\n",
    "model.fit(X_train,y_train)\n",
    "y_predict = model.predict(X_test)\n",
    "accuracy_score(y_test,y_predict)"
   ]
  },
  {
   "cell_type": "code",
   "execution_count": 13,
   "metadata": {
    "collapsed": true
   },
   "outputs": [
    {
     "data": {
      "text/plain": [
       "[array([[ 2.97423812e-01, -4.26631261e-01,  1.23636996e-01,\n",
       "          2.39380333e-01,  1.21357265e-01, -1.89602742e-01,\n",
       "         -2.76040850e-01,  1.23802103e-01, -2.34332721e-01,\n",
       "         -8.73670549e-01,  9.28658833e-13,  4.93073602e-01,\n",
       "         -5.65337347e-01,  2.68771276e-03,  2.80325229e-01,\n",
       "          1.38916729e-01, -6.79493793e-03, -1.50958156e-11,\n",
       "          3.85305165e-01,  1.27165913e-01, -5.40439857e-02,\n",
       "         -3.06152595e-01, -2.60420919e-01,  2.05395318e-01,\n",
       "          1.60890221e-02, -3.56551284e-25,  4.21945152e-02,\n",
       "         -2.54305362e-02,  1.20287331e-01, -1.55558812e-21,\n",
       "          4.37684538e-01,  1.75641278e-01,  2.17161391e-01,\n",
       "         -4.91856149e-13, -2.70902062e-01, -7.26365793e-02,\n",
       "         -2.21732498e-01,  4.89194005e-01, -3.62413256e-02,\n",
       "          1.90678383e-01, -1.79367120e-02,  3.53829861e-02,\n",
       "         -9.74144107e-03,  3.50968652e-01, -2.41048007e-01,\n",
       "          2.87680574e-01, -1.83942973e-01,  3.64588895e-01,\n",
       "         -5.84610681e-02, -1.78083631e-07],\n",
       "        [-1.26850772e-01, -4.04317624e-01,  3.32103967e-01,\n",
       "         -1.91162121e-01, -5.37578533e-03,  1.73238731e-01,\n",
       "          4.87438005e-01, -5.29806920e-02,  1.90207490e-01,\n",
       "          8.61543179e-02,  5.12310876e-22,  3.59308068e-01,\n",
       "          1.87949890e-01,  5.26365224e-02, -5.57933785e-01,\n",
       "         -8.24846755e-02, -5.49850370e-06, -3.05681158e-12,\n",
       "         -1.21529166e-01,  1.36636049e-01, -2.50691102e-01,\n",
       "         -2.30326878e-02, -4.51084666e-01,  1.82622324e-01,\n",
       "          2.57488102e-02, -1.65773905e-05,  1.55267041e-01,\n",
       "          1.36220288e-01,  3.62167980e-01,  1.56367438e-23,\n",
       "          5.91929446e-02,  9.18087296e-02,  2.45121767e-02,\n",
       "         -2.86693990e-10, -1.74942223e-02, -2.81217083e-01,\n",
       "          1.73573749e-02, -6.99707731e-01, -2.03258040e-02,\n",
       "          7.49508124e-02, -1.70260440e-02, -3.58098017e-01,\n",
       "         -5.24132091e-01,  4.15218070e-01, -1.22799092e-02,\n",
       "          4.43670976e-02,  3.72310847e-01,  1.49799280e-02,\n",
       "         -1.39806333e-03, -1.57267842e-02],\n",
       "        [-3.41891323e-02,  2.53318079e-01, -1.52372361e-01,\n",
       "         -3.35803770e-02,  2.78002082e-01,  1.71156239e-01,\n",
       "          1.30275978e-02, -3.41161866e-01, -1.17261495e-01,\n",
       "         -3.59682847e-03, -6.13141972e-12,  7.23939087e-02,\n",
       "          1.83902452e-01, -2.22083930e-01, -3.39193564e-01,\n",
       "          1.90565985e-02, -3.00330368e-02, -8.75088589e-08,\n",
       "          3.20672535e-01, -8.54117430e-03, -1.36154933e-01,\n",
       "          1.96433803e-01, -8.34487872e-02,  1.81148127e-01,\n",
       "         -1.22983693e-02,  3.25579991e-22, -2.45406393e-01,\n",
       "         -2.39560091e-01,  1.88914364e-01, -1.41776061e-05,\n",
       "         -5.12741099e-02,  7.15178075e-02, -2.23090736e-01,\n",
       "         -5.71621370e-02,  3.51940993e-01,  3.44535401e-01,\n",
       "         -5.67647542e-02,  4.21406777e-02, -4.81153704e-02,\n",
       "          2.63249222e-01, -2.10127376e-02,  1.50932638e-01,\n",
       "          1.67330841e-01,  2.52762373e-01,  1.03322514e-01,\n",
       "          1.25997935e-01, -2.10476569e-01,  3.25450084e-02,\n",
       "          5.58870761e-02, -8.21193225e-02],\n",
       "        [-5.64342510e-02, -1.54305302e-01,  2.45238061e-02,\n",
       "          2.02152561e-01, -2.55687082e-01,  2.08849425e-01,\n",
       "          6.43186309e-02,  1.67689440e-02, -2.17728870e-01,\n",
       "          1.16392434e-01, -9.58000312e-12, -2.97254098e-01,\n",
       "         -2.28482884e-01, -3.48310820e-02,  1.91304842e-01,\n",
       "          1.80563064e-01, -1.40454281e-02, -1.52986820e-07,\n",
       "          2.43824586e-01,  6.46976549e-02,  2.18563560e-01,\n",
       "          2.95928308e-01,  7.32855557e-02,  1.59329417e-01,\n",
       "          1.51804962e-01, -2.97986240e-05,  2.07769917e-01,\n",
       "         -2.44985987e-01,  1.36097971e-02,  2.56490047e-30,\n",
       "         -8.15969517e-02,  3.86117015e-01, -2.56411625e-01,\n",
       "         -2.31570633e-01,  3.49357478e-01,  2.41731798e-01,\n",
       "         -1.23823235e-01, -5.82016196e-02, -2.61482294e-02,\n",
       "         -1.19672878e-01, -2.50951541e-02,  9.43019346e-02,\n",
       "         -1.38393620e-01, -2.21131112e-01,  1.52735787e-02,\n",
       "         -2.06066166e-01,  1.66244901e-01,  3.04195809e-01,\n",
       "         -6.62509571e-02, -8.64056554e-02],\n",
       "        [ 3.33370967e-01,  3.21061266e-01, -1.66456126e-02,\n",
       "          4.24235481e-01, -7.80447828e-02, -1.85646293e-01,\n",
       "          2.40394836e-01,  1.15837022e-01, -2.10420630e-02,\n",
       "          1.99881061e-02, -1.17447473e-08,  2.67809750e-01,\n",
       "          6.62714547e-03, -6.72274130e-13,  4.38490266e-01,\n",
       "         -4.09817536e-02, -2.68100782e-05, -1.39492194e-05,\n",
       "         -1.88680666e-01, -2.12667815e-01,  8.04682493e-02,\n",
       "          3.60907168e-01,  1.61108214e-01, -2.79388930e-01,\n",
       "          1.18943913e-01, -5.88391583e-22, -5.75315255e-01,\n",
       "          1.97954462e-01, -1.37220260e-01,  1.68280797e-11,\n",
       "         -6.51534834e-02,  4.17367021e-01,  1.78696159e-01,\n",
       "         -2.22378432e-03,  7.26619188e-02, -2.66868836e-01,\n",
       "         -4.93828045e-02, -4.48343993e-02, -1.10866455e-02,\n",
       "          2.30792626e-01, -5.79116710e-12, -1.14128886e-01,\n",
       "          1.42989802e-01, -4.08714360e-02, -2.00175435e-01,\n",
       "          1.82710367e-01,  2.47147651e-01, -1.46629622e-01,\n",
       "          4.34363644e-01, -4.08165161e-09],\n",
       "        [ 1.31452104e-01,  5.63339262e-02,  4.05189026e-01,\n",
       "          3.17572224e-01,  5.24037762e-01, -1.25219639e-01,\n",
       "         -1.01081567e-01,  2.35326270e-02,  2.67327174e-01,\n",
       "         -2.06956470e-02, -2.57890132e-10, -9.11094109e-02,\n",
       "          1.67590785e-01,  2.97553115e-01,  1.99359551e-01,\n",
       "         -6.48753130e-01, -1.49613789e-05,  1.47014468e-05,\n",
       "          3.87816678e-01,  4.74777303e-01,  6.37976927e-01,\n",
       "          2.61622037e-01,  4.56599160e-01, -3.73513155e-01,\n",
       "         -7.08920244e-01, -1.24524891e-17,  1.33822219e-01,\n",
       "         -1.41721400e-01,  2.08172242e-01, -4.01582994e-05,\n",
       "          8.73109113e-02, -2.48741148e-01,  2.09805411e-01,\n",
       "          1.83602701e-01, -2.49509424e-01, -3.25593762e-01,\n",
       "          3.98251911e-01, -2.73743446e-02, -6.11107340e-03,\n",
       "         -4.39310801e-01, -4.30688032e-06,  4.05833179e-01,\n",
       "          1.41282140e-01,  3.31382883e-02,  5.90276086e-01,\n",
       "          4.83151629e-01,  1.21749550e-01,  9.67794103e-02,\n",
       "         -7.13138413e-01, -7.98119542e-12]]),\n",
       " array([[ 1.26115530e-01,  2.63419541e-01, -2.08755785e-01, ...,\n",
       "         -1.91072545e-01, -4.61582767e-02, -2.18719715e-01],\n",
       "        [ 5.70410510e-02, -2.75764616e-01, -5.41875169e-01, ...,\n",
       "         -1.16495423e-01,  1.85591775e-01,  3.18729757e-01],\n",
       "        [-1.27870409e-01,  2.50203881e-01,  6.64054601e-02, ...,\n",
       "          2.17074625e-01,  1.10440298e-01, -5.54358121e-02],\n",
       "        ...,\n",
       "        [-8.42139356e-02, -1.31615298e-01, -1.74175274e-01, ...,\n",
       "          2.38075628e-01, -1.52886403e-01, -2.07858671e-01],\n",
       "        [ 3.34035057e-01,  1.53174283e-01, -4.25975538e-02, ...,\n",
       "         -4.96396508e-01,  3.02164552e-01,  1.23024457e-01],\n",
       "        [-2.33119003e-06, -2.07763362e-06,  7.17238605e-23, ...,\n",
       "          4.88336555e-05,  3.09532196e-07, -3.55917897e-07]]),\n",
       " array([[-0.17360243,  0.05124817,  0.30301278, ...,  0.07598524,\n",
       "         -0.65129249,  0.18712678],\n",
       "        [ 0.03980044,  0.08282579, -0.0844813 , ..., -0.05265193,\n",
       "          0.33695738,  0.20748232],\n",
       "        [-0.31806144,  0.22722279, -0.11226997, ..., -0.01932577,\n",
       "         -0.30073213,  0.0371009 ],\n",
       "        ...,\n",
       "        [-0.01732285,  0.55685167,  0.38669039, ...,  0.45199643,\n",
       "         -0.38936027, -0.20210421],\n",
       "        [ 0.11346755,  0.11046308, -0.23849194, ..., -0.34064541,\n",
       "         -0.12765739, -0.0528422 ],\n",
       "        [ 0.57154307,  0.22329883,  0.07912549, ...,  1.08887734,\n",
       "         -0.18732517,  0.03676104]]),\n",
       " array([[ 5.24389977e-01,  2.14987344e-01, -3.70078342e-01,\n",
       "          2.49372348e-01],\n",
       "        [ 7.86085549e-02, -2.32231497e-01, -3.76588259e-01,\n",
       "          7.08369324e-01],\n",
       "        [-2.78157781e-01, -1.02211952e+00,  5.51223746e-01,\n",
       "         -5.62040658e-01],\n",
       "        [ 7.10226224e-02, -5.98514330e-01,  4.16734679e-01,\n",
       "          8.41755353e-02],\n",
       "        [ 7.56064128e-05, -3.01862878e-05, -1.59149156e-04,\n",
       "         -9.75808023e-14],\n",
       "        [-1.09248534e+00,  5.10069665e-01,  4.64849912e-01,\n",
       "         -2.97376031e-01],\n",
       "        [-8.00512419e-01,  6.05288174e-01,  4.42165890e-01,\n",
       "          1.94679747e-01],\n",
       "        [-3.36054947e-01,  1.15274419e-01,  2.44265013e-01,\n",
       "          2.06080898e-01],\n",
       "        [ 2.01361928e-01, -2.85597332e-02,  5.56338217e-01,\n",
       "         -9.10144287e-01],\n",
       "        [ 1.01522118e-01, -3.24324729e-01, -2.57199382e-01,\n",
       "          9.37703497e-02],\n",
       "        [ 1.39716544e-01,  1.28066874e-01, -5.08236537e-02,\n",
       "          2.47726840e-01],\n",
       "        [-2.74716109e-01,  1.74703623e-01,  7.40457858e-01,\n",
       "         -1.97786049e-02],\n",
       "        [ 4.01592052e-01,  5.37613057e-01, -6.44634068e-01,\n",
       "         -2.44872327e-01],\n",
       "        [-4.79564097e-01, -1.05263672e+00,  3.26691063e-01,\n",
       "         -9.98831193e-01],\n",
       "        [ 9.63254377e-33,  8.27295563e-14,  1.08493685e-05,\n",
       "         -6.14665182e-07],\n",
       "        [-5.11002625e-01,  1.82890950e-01,  7.22488465e-01,\n",
       "         -4.89909080e-01],\n",
       "        [-1.13472784e-07,  1.46104495e-08, -7.96195897e-13,\n",
       "         -3.69428152e-14],\n",
       "        [-2.55599000e-01,  1.74262069e-01, -6.55592186e-01,\n",
       "          3.89009821e-01],\n",
       "        [-2.78254498e-02,  8.26127439e-02,  1.91370658e-01,\n",
       "         -2.70228009e-01],\n",
       "        [-7.15083929e-02,  1.63244046e-01, -7.56641663e-01,\n",
       "          3.88947852e-01],\n",
       "        [ 2.33874370e-01, -2.98954005e-01,  1.15773598e-01,\n",
       "         -5.93196281e-01],\n",
       "        [ 2.91152876e-01,  6.22810275e-01, -6.15810152e-01,\n",
       "         -9.82350231e-02],\n",
       "        [-5.71856416e-01, -5.02173976e-01,  8.03343337e-01,\n",
       "          5.44555261e-02],\n",
       "        [-2.65932124e-01, -1.17260684e+00,  5.23140442e-01,\n",
       "         -6.81970624e-02],\n",
       "        [-1.59491840e-01,  5.59355909e-01, -5.77550738e-02,\n",
       "         -2.12428896e-01],\n",
       "        [-9.38639418e-01, -5.10731135e-01,  7.70735843e-01,\n",
       "         -6.97015143e-01],\n",
       "        [ 3.25029119e-01, -1.70807640e-01, -2.58893089e-01,\n",
       "         -1.81367280e-01],\n",
       "        [ 5.65973413e-01, -6.75477153e-01,  6.30537980e-01,\n",
       "         -4.88461489e-02],\n",
       "        [ 5.42842490e-01,  4.05278110e-01, -7.15839622e-01,\n",
       "         -4.18328909e-01],\n",
       "        [-1.58025806e-01,  6.15667961e-02,  7.23827833e-02,\n",
       "          2.80086249e-01]])]"
      ]
     },
     "execution_count": 13,
     "metadata": {},
     "output_type": "execute_result"
    }
   ],
   "source": [
    "model.coefs_"
   ]
  },
  {
   "cell_type": "code",
   "execution_count": 14,
   "metadata": {
    "collapsed": true
   },
   "outputs": [
    {
     "data": {
      "text/plain": [
       "[array([ 0.04131818,  0.11727549,  0.03978024, -0.07214237,  0.3084005 ,\n",
       "        -0.08759343, -0.29253745, -0.05312133, -0.0012695 ,  0.24849649,\n",
       "        -0.19327889,  0.09639378,  0.56001541, -0.30516133,  0.33626781,\n",
       "         0.49535527,  0.01726401, -0.28483524, -0.34718272, -0.4827069 ,\n",
       "         0.08576498, -0.4072965 , -0.04366681,  0.35175911, -0.08308947,\n",
       "        -0.15933775,  0.15301029,  0.28945512, -0.4340326 , -0.03305034,\n",
       "         0.01484796, -0.26559428, -0.18570531,  0.12864636,  0.21720038,\n",
       "         0.24054313,  0.23894071, -0.15527658,  0.0598351 ,  0.52705479,\n",
       "        -0.01170081,  0.19803812,  0.46071638,  0.33107698, -0.06124666,\n",
       "         0.06611066, -0.31277202, -0.55719946,  0.42410106,  0.26812   ]),\n",
       " array([ 0.04717285,  0.0411673 ,  0.02805359,  0.06820447,  0.04381306,\n",
       "        -0.02603816,  0.34839469,  0.21015442, -0.33499354, -0.02657599,\n",
       "         0.0786066 ,  0.49209893,  0.07818448, -0.01281157, -0.17744058,\n",
       "        -0.03463761, -0.08882265,  0.05160676,  0.27052035, -0.24044904,\n",
       "        -0.01808527, -0.1290796 ,  0.25244766, -0.01184903, -0.01183264,\n",
       "        -0.25770952, -0.00419324, -0.23057712, -0.39948683, -0.07273224,\n",
       "         0.04074342, -0.12525359, -0.04020304, -0.07394126, -0.11330605,\n",
       "         0.17569833,  0.02361252,  0.25175196,  0.42494642,  0.06092689]),\n",
       " array([ 0.16291515, -0.17919572, -0.2567266 ,  0.06055442, -0.19626684,\n",
       "        -0.21276109, -0.02312147,  0.07431487,  0.27532647, -0.20640416,\n",
       "        -0.10430692,  0.19111105, -0.03537894,  0.19193704, -0.17188022,\n",
       "         0.31499728, -0.28072516, -0.17073782, -0.26409962,  0.33174215,\n",
       "        -0.07402133,  0.16039011, -0.17568557, -0.30208815,  0.28589647,\n",
       "        -0.01792031, -0.03439902,  0.17195851, -0.09881392, -0.214029  ]),\n",
       " array([-0.15660415, -0.37774816, -0.00533329, -0.27802477])]"
      ]
     },
     "execution_count": 14,
     "metadata": {},
     "output_type": "execute_result"
    }
   ],
   "source": [
    "model.intercepts_"
   ]
  },
  {
   "cell_type": "code",
   "execution_count": 15,
   "metadata": {},
   "outputs": [
    {
     "data": {
      "text/plain": [
       "5"
      ]
     },
     "execution_count": 15,
     "metadata": {},
     "output_type": "execute_result"
    }
   ],
   "source": [
    "model.n_layers_"
   ]
  },
  {
   "cell_type": "code",
   "execution_count": 16,
   "metadata": {},
   "outputs": [
    {
     "data": {
      "text/plain": [
       "'softmax'"
      ]
     },
     "execution_count": 16,
     "metadata": {},
     "output_type": "execute_result"
    }
   ],
   "source": [
    "model.out_activation_"
   ]
  },
  {
   "cell_type": "code",
   "execution_count": 17,
   "metadata": {},
   "outputs": [
    {
     "data": {
      "text/plain": [
       "6"
      ]
     },
     "execution_count": 17,
     "metadata": {},
     "output_type": "execute_result"
    }
   ],
   "source": [
    "model.n_features_in_"
   ]
  },
  {
   "cell_type": "code",
   "execution_count": 18,
   "metadata": {},
   "outputs": [
    {
     "data": {
      "text/plain": [
       "200"
      ]
     },
     "execution_count": 18,
     "metadata": {},
     "output_type": "execute_result"
    }
   ],
   "source": [
    "model.n_iter_"
   ]
  },
  {
   "cell_type": "code",
   "execution_count": 19,
   "metadata": {},
   "outputs": [
    {
     "data": {
      "text/plain": [
       "4"
      ]
     },
     "execution_count": 19,
     "metadata": {},
     "output_type": "execute_result"
    }
   ],
   "source": [
    "model.n_outputs_"
   ]
  },
  {
   "cell_type": "code",
   "execution_count": 20,
   "metadata": {},
   "outputs": [
    {
     "data": {
      "text/html": [
       "<div>\n",
       "<style scoped>\n",
       "    .dataframe tbody tr th:only-of-type {\n",
       "        vertical-align: middle;\n",
       "    }\n",
       "\n",
       "    .dataframe tbody tr th {\n",
       "        vertical-align: top;\n",
       "    }\n",
       "\n",
       "    .dataframe thead th {\n",
       "        text-align: right;\n",
       "    }\n",
       "</style>\n",
       "<table border=\"1\" class=\"dataframe\">\n",
       "  <thead>\n",
       "    <tr style=\"text-align: right;\">\n",
       "      <th>col_0</th>\n",
       "      <th>acc</th>\n",
       "      <th>good</th>\n",
       "      <th>unacc</th>\n",
       "      <th>vgood</th>\n",
       "    </tr>\n",
       "    <tr>\n",
       "      <th>outcome</th>\n",
       "      <th></th>\n",
       "      <th></th>\n",
       "      <th></th>\n",
       "      <th></th>\n",
       "    </tr>\n",
       "  </thead>\n",
       "  <tbody>\n",
       "    <tr>\n",
       "      <th>acc</th>\n",
       "      <td>63</td>\n",
       "      <td>0</td>\n",
       "      <td>1</td>\n",
       "      <td>0</td>\n",
       "    </tr>\n",
       "    <tr>\n",
       "      <th>good</th>\n",
       "      <td>1</td>\n",
       "      <td>12</td>\n",
       "      <td>0</td>\n",
       "      <td>0</td>\n",
       "    </tr>\n",
       "    <tr>\n",
       "      <th>unacc</th>\n",
       "      <td>1</td>\n",
       "      <td>0</td>\n",
       "      <td>249</td>\n",
       "      <td>1</td>\n",
       "    </tr>\n",
       "    <tr>\n",
       "      <th>vgood</th>\n",
       "      <td>1</td>\n",
       "      <td>0</td>\n",
       "      <td>0</td>\n",
       "      <td>17</td>\n",
       "    </tr>\n",
       "  </tbody>\n",
       "</table>\n",
       "</div>"
      ],
      "text/plain": [
       "col_0    acc  good  unacc  vgood\n",
       "outcome                         \n",
       "acc       63     0      1      0\n",
       "good       1    12      0      0\n",
       "unacc      1     0    249      1\n",
       "vgood      1     0      0     17"
      ]
     },
     "execution_count": 20,
     "metadata": {},
     "output_type": "execute_result"
    }
   ],
   "source": [
    "pd.crosstab(y_test,y_predict)"
   ]
  },
  {
   "cell_type": "code",
   "execution_count": 21,
   "metadata": {},
   "outputs": [
    {
     "data": {
      "text/plain": [
       "array([-1.22474487,  0.        ,  1.22474487])"
      ]
     },
     "execution_count": 21,
     "metadata": {},
     "output_type": "execute_result"
    }
   ],
   "source": [
    "x=[10,20,30]\n",
    "scale(x)"
   ]
  },
  {
   "cell_type": "code",
   "execution_count": null,
   "metadata": {},
   "outputs": [],
   "source": []
  }
 ],
 "metadata": {
  "kernelspec": {
   "display_name": "Python 3",
   "language": "python",
   "name": "python3"
  },
  "language_info": {
   "codemirror_mode": {
    "name": "ipython",
    "version": 3
   },
   "file_extension": ".py",
   "mimetype": "text/x-python",
   "name": "python",
   "nbconvert_exporter": "python",
   "pygments_lexer": "ipython3",
   "version": "3.8.3"
  }
 },
 "nbformat": 4,
 "nbformat_minor": 4
}
