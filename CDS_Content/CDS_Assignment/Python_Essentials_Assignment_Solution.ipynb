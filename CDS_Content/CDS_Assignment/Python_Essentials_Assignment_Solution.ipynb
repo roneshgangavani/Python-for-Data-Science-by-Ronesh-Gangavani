{
 "cells": [
  {
   "cell_type": "markdown",
   "metadata": {},
   "source": [
    "# Data Types, Type Casting, Slicing, Operators, Conditional Statements, List, Tuples, Dictionary, Set, Functions, Loops"
   ]
  },
  {
   "cell_type": "markdown",
   "metadata": {},
   "source": [
    "* ###  Q1) Convert the string s='India Recovering from Covid' to uppercase and split it into a list."
   ]
  },
  {
   "cell_type": "code",
   "execution_count": 1,
   "metadata": {},
   "outputs": [
    {
     "data": {
      "text/plain": [
       "['INDIA', 'RECOVERING', 'FROM', 'COVID']"
      ]
     },
     "execution_count": 1,
     "metadata": {},
     "output_type": "execute_result"
    }
   ],
   "source": [
    "s='India Recovering from Covid'\n",
    "s.upper().split()"
   ]
  },
  {
   "cell_type": "markdown",
   "metadata": {},
   "source": [
    "* ###  Q2) Write code for 9 divided by 2(Dividend=9, Divisor=2). The answer should be 4."
   ]
  },
  {
   "cell_type": "code",
   "execution_count": 3,
   "metadata": {},
   "outputs": [
    {
     "data": {
      "text/plain": [
       "4"
      ]
     },
     "execution_count": 3,
     "metadata": {},
     "output_type": "execute_result"
    }
   ],
   "source": [
    "9//2"
   ]
  },
  {
   "cell_type": "markdown",
   "metadata": {},
   "source": [
    "* ###  Q3) Solve the expression.   5.2 + True + bool(-5) - 4 + 42//5 +bool(0) + False + int(5.9) + float('1') (Note: This is for understanding of Typecasting)"
   ]
  },
  {
   "cell_type": "code",
   "execution_count": 2,
   "metadata": {},
   "outputs": [
    {
     "data": {
      "text/plain": [
       "17.2"
      ]
     },
     "execution_count": 2,
     "metadata": {},
     "output_type": "execute_result"
    }
   ],
   "source": [
    "5.2 + True + bool(-5) - 4 + 42//5 +bool(0) + False + int(5.9) + float('1')"
   ]
  },
  {
   "cell_type": "markdown",
   "metadata": {},
   "source": [
    "* ###  Q4)Given the string str='Certified Data Scientist'. Print 'Data' from the string 3 times. O/p should be 'DataDataData'"
   ]
  },
  {
   "cell_type": "code",
   "execution_count": 5,
   "metadata": {},
   "outputs": [
    {
     "data": {
      "text/plain": [
       "'DataDataData'"
      ]
     },
     "execution_count": 5,
     "metadata": {},
     "output_type": "execute_result"
    }
   ],
   "source": [
    "str='Certified Data Scientist'\n",
    "t=str.split()\n",
    "t[1]*3"
   ]
  },
  {
   "cell_type": "markdown",
   "metadata": {},
   "source": [
    "* ###  Q5) Solve this expression. value= 3/2*3+(12/4)**3+5-2. (Note:This for understanding the hierarchy of operators)"
   ]
  },
  {
   "cell_type": "code",
   "execution_count": 1,
   "metadata": {},
   "outputs": [
    {
     "data": {
      "text/plain": [
       "12.130434782608695"
      ]
     },
     "execution_count": 1,
     "metadata": {},
     "output_type": "execute_result"
    }
   ],
   "source": [
    "3/23+(12/4)*3+5-2"
   ]
  },
  {
   "cell_type": "code",
   "execution_count": 3,
   "metadata": {},
   "outputs": [
    {
     "data": {
      "text/plain": [
       "0.13043478260869565"
      ]
     },
     "execution_count": 3,
     "metadata": {},
     "output_type": "execute_result"
    }
   ],
   "source": [
    "3/23"
   ]
  },
  {
   "cell_type": "markdown",
   "metadata": {},
   "source": [
    "* ###  Q6)Write code to test whether the given number lies between 1 to 10. "
   ]
  },
  {
   "cell_type": "code",
   "execution_count": 5,
   "metadata": {},
   "outputs": [
    {
     "name": "stdout",
     "output_type": "stream",
     "text": [
      "enter the number12\n",
      "The number doesnot lies between 1 to 10\n"
     ]
    }
   ],
   "source": [
    "x=int(input(\"enter the number\"))\n",
    "if(x<=10 and x>0):\n",
    "    print(\"The number lies between 1 to 10\")\n",
    "else:\n",
    "    print(\"The number doesnot lies between 1 to 10\")"
   ]
  },
  {
   "cell_type": "markdown",
   "metadata": {},
   "source": [
    "* ###  Q7)Solve  \n",
    "* sum the numbers from 1 to 20 using for loop\n",
    "* Display the numbers in reverse from 100 to 1(Use negative indexing for step)\n",
    "* Display multiples of 2 from 10 to 50 using range "
   ]
  },
  {
   "cell_type": "code",
   "execution_count": 7,
   "metadata": {
    "collapsed": true
   },
   "outputs": [
    {
     "name": "stdout",
     "output_type": "stream",
     "text": [
      "210\n"
     ]
    }
   ],
   "source": [
    "sum=0\n",
    "for i in range(1,21):\n",
    "    sum=sum+i\n",
    "print(sum)"
   ]
  },
  {
   "cell_type": "code",
   "execution_count": 8,
   "metadata": {
    "collapsed": true
   },
   "outputs": [
    {
     "name": "stdout",
     "output_type": "stream",
     "text": [
      "100\n",
      "99\n",
      "98\n",
      "97\n",
      "96\n",
      "95\n",
      "94\n",
      "93\n",
      "92\n",
      "91\n",
      "90\n",
      "89\n",
      "88\n",
      "87\n",
      "86\n",
      "85\n",
      "84\n",
      "83\n",
      "82\n",
      "81\n",
      "80\n",
      "79\n",
      "78\n",
      "77\n",
      "76\n",
      "75\n",
      "74\n",
      "73\n",
      "72\n",
      "71\n",
      "70\n",
      "69\n",
      "68\n",
      "67\n",
      "66\n",
      "65\n",
      "64\n",
      "63\n",
      "62\n",
      "61\n",
      "60\n",
      "59\n",
      "58\n",
      "57\n",
      "56\n",
      "55\n",
      "54\n",
      "53\n",
      "52\n",
      "51\n",
      "50\n",
      "49\n",
      "48\n",
      "47\n",
      "46\n",
      "45\n",
      "44\n",
      "43\n",
      "42\n",
      "41\n",
      "40\n",
      "39\n",
      "38\n",
      "37\n",
      "36\n",
      "35\n",
      "34\n",
      "33\n",
      "32\n",
      "31\n",
      "30\n",
      "29\n",
      "28\n",
      "27\n",
      "26\n",
      "25\n",
      "24\n",
      "23\n",
      "22\n",
      "21\n",
      "20\n",
      "19\n",
      "18\n",
      "17\n",
      "16\n",
      "15\n",
      "14\n",
      "13\n",
      "12\n",
      "11\n",
      "10\n",
      "9\n",
      "8\n",
      "7\n",
      "6\n",
      "5\n",
      "4\n",
      "3\n",
      "2\n",
      "1\n"
     ]
    }
   ],
   "source": [
    "for i in range(100,0,-1):\n",
    "    print(i)"
   ]
  },
  {
   "cell_type": "code",
   "execution_count": 9,
   "metadata": {},
   "outputs": [
    {
     "name": "stdout",
     "output_type": "stream",
     "text": [
      "10 is a multiple of 2\n",
      "11 is not a multiple of 2\n",
      "12 is a multiple of 2\n",
      "13 is not a multiple of 2\n",
      "14 is a multiple of 2\n",
      "15 is not a multiple of 2\n",
      "16 is a multiple of 2\n",
      "17 is not a multiple of 2\n",
      "18 is a multiple of 2\n",
      "19 is not a multiple of 2\n",
      "20 is a multiple of 2\n",
      "21 is not a multiple of 2\n",
      "22 is a multiple of 2\n",
      "23 is not a multiple of 2\n",
      "24 is a multiple of 2\n",
      "25 is not a multiple of 2\n",
      "26 is a multiple of 2\n",
      "27 is not a multiple of 2\n",
      "28 is a multiple of 2\n",
      "29 is not a multiple of 2\n",
      "30 is a multiple of 2\n",
      "31 is not a multiple of 2\n",
      "32 is a multiple of 2\n",
      "33 is not a multiple of 2\n",
      "34 is a multiple of 2\n",
      "35 is not a multiple of 2\n",
      "36 is a multiple of 2\n",
      "37 is not a multiple of 2\n",
      "38 is a multiple of 2\n",
      "39 is not a multiple of 2\n",
      "40 is a multiple of 2\n",
      "41 is not a multiple of 2\n",
      "42 is a multiple of 2\n",
      "43 is not a multiple of 2\n",
      "44 is a multiple of 2\n",
      "45 is not a multiple of 2\n",
      "46 is a multiple of 2\n",
      "47 is not a multiple of 2\n",
      "48 is a multiple of 2\n",
      "49 is not a multiple of 2\n",
      "50 is a multiple of 2\n"
     ]
    }
   ],
   "source": [
    "for i in range(10,51):\n",
    "    if(i%2==0):\n",
    "        print(\"{} is a multiple of 2\".format(i))\n",
    "    else:\n",
    "        print(\"{} is not a multiple of 2\".format(i))"
   ]
  },
  {
   "cell_type": "code",
   "execution_count": 9,
   "metadata": {},
   "outputs": [
    {
     "name": "stdout",
     "output_type": "stream",
     "text": [
      "10\n",
      "12\n",
      "14\n",
      "16\n",
      "18\n",
      "20\n",
      "22\n",
      "24\n",
      "26\n",
      "28\n",
      "30\n",
      "32\n",
      "34\n",
      "36\n",
      "38\n",
      "40\n",
      "42\n",
      "44\n",
      "46\n",
      "48\n",
      "50\n"
     ]
    }
   ],
   "source": [
    "for i in range(10,51,2):\n",
    "    print(i)\n"
   ]
  },
  {
   "cell_type": "markdown",
   "metadata": {},
   "source": [
    "* ###  Q8) From the below nested dictionary, pick the word \"Bangalore\". \n",
    "* d = {'1':'One','2':[1,{'Two':['Ch','Cbe','Salem',{'Place':[5,6,7,'Bangalore']}]}]}"
   ]
  },
  {
   "cell_type": "code",
   "execution_count": 14,
   "metadata": {},
   "outputs": [
    {
     "data": {
      "text/plain": [
       "'Bangalore'"
      ]
     },
     "execution_count": 14,
     "metadata": {},
     "output_type": "execute_result"
    }
   ],
   "source": [
    "d = {'1':'One','2':[1,{'Two':['Ch','Cbe','Salem',{'Place':[5,6,7,'Bangalore']}]}]}\n",
    "d['2'][1]['Two'][3]['Place'][3]\n",
    "#d['2'][1]['Two'][3]['Place'][3]"
   ]
  },
  {
   "cell_type": "markdown",
   "metadata": {},
   "source": [
    "* ###  Q9) Use functions to return square of numbers from 2 to 5"
   ]
  },
  {
   "cell_type": "code",
   "execution_count": 11,
   "metadata": {},
   "outputs": [
    {
     "name": "stdout",
     "output_type": "stream",
     "text": [
      "4\n",
      "27\n",
      "256\n",
      "3125\n"
     ]
    }
   ],
   "source": [
    "def exponent(x):#Function definition\n",
    "    sq=x**x\n",
    "    print(sq)\n",
    "for i in range(2,6):\n",
    "    exponent(i) #Function Call"
   ]
  },
  {
   "cell_type": "code",
   "execution_count": 15,
   "metadata": {},
   "outputs": [
    {
     "name": "stdout",
     "output_type": "stream",
     "text": [
      "4\n",
      "9\n",
      "16\n",
      "25\n"
     ]
    }
   ],
   "source": [
    "def square(x):\n",
    "    sq=x*x\n",
    "    print(sq)\n",
    "for i in range(2,6):\n",
    "    square(i) #Function Call    "
   ]
  },
  {
   "cell_type": "markdown",
   "metadata": {},
   "source": [
    "* ###  Q10) Solve. Given the sets s1={1,2,4,5,8} s2={2,3,4,6,7}\n",
    "* Find max element from s1 and minimum element from s2\n",
    "* Find the union and intersection of s1 and s2\n"
   ]
  },
  {
   "cell_type": "code",
   "execution_count": 16,
   "metadata": {},
   "outputs": [
    {
     "name": "stdout",
     "output_type": "stream",
     "text": [
      "Set 1 is {1, 2, 4, 5, 8}\n",
      "Set 2 is {2, 3, 4, 6, 7}\n",
      "Maximum and Minimum values are 8 and 2\n",
      "The union = {1, 2, 3, 4, 5, 6, 7, 8}\n",
      "The Intersection = {2, 4}\n"
     ]
    }
   ],
   "source": [
    "s1={1,2,4,5,8,1} \n",
    "s2={2,3,4,6,7,3,2}\n",
    "print(\"Set 1 is\",s1)\n",
    "print(\"Set 2 is\",s2)\n",
    "print(\"Maximum and Minimum values are {} and {}\".format(max(s1),min(s2)))\n",
    "print(\"The union =\",s2 | s1)\n",
    "print(\"The Intersection =\",s1 & s2)"
   ]
  },
  {
   "cell_type": "code",
   "execution_count": 18,
   "metadata": {},
   "outputs": [
    {
     "name": "stdout",
     "output_type": "stream",
     "text": [
      "Enter the value12\n",
      "Task: Checking value lies within range of 1 to 10\n",
      "Entered value is out of range: 12\n"
     ]
    }
   ],
   "source": [
    "a= int(input('Enter the value'))\n",
    "print('Task: Checking value lies within range of 1 to 10')\n",
    "if (1<a & a<10):\n",
    "    print('Entered value lies within range:', a)\n",
    "else:\n",
    "    print('Entered value is out of range:', a)\n"
   ]
  },
  {
   "cell_type": "code",
   "execution_count": null,
   "metadata": {},
   "outputs": [],
   "source": []
  }
 ],
 "metadata": {
  "kernelspec": {
   "display_name": "Python 3",
   "language": "python",
   "name": "python3"
  },
  "language_info": {
   "codemirror_mode": {
    "name": "ipython",
    "version": 3
   },
   "file_extension": ".py",
   "mimetype": "text/x-python",
   "name": "python",
   "nbconvert_exporter": "python",
   "pygments_lexer": "ipython3",
   "version": "3.8.3"
  }
 },
 "nbformat": 4,
 "nbformat_minor": 4
}
